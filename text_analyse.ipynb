{
 "cells": [
  {
   "cell_type": "code",
   "execution_count": 1,
   "metadata": {},
   "outputs": [],
   "source": [
    "import pandas as pd\n",
    "import plotly.express as px\n",
    "from wordcloud import WordCloud\n",
    "import matplotlib.pyplot as plt\n",
    "from textblob import TextBlob\n",
    "import spacy\n",
    "from collections import defaultdict\n",
    "from collections import Counter\n",
    "from sklearn.feature_extraction.text import CountVectorizer\n",
    "from sklearn.decomposition import LatentDirichletAllocation"
   ]
  },
  {
   "cell_type": "code",
   "execution_count": 2,
   "metadata": {},
   "outputs": [],
   "source": [
    "nlp = spacy.load('en_core_web_sm')"
   ]
  },
  {
   "cell_type": "code",
   "execution_count": 3,
   "metadata": {},
   "outputs": [
    {
     "data": {
      "text/html": [
       "<div>\n",
       "<style scoped>\n",
       "    .dataframe tbody tr th:only-of-type {\n",
       "        vertical-align: middle;\n",
       "    }\n",
       "\n",
       "    .dataframe tbody tr th {\n",
       "        vertical-align: top;\n",
       "    }\n",
       "\n",
       "    .dataframe thead th {\n",
       "        text-align: right;\n",
       "    }\n",
       "</style>\n",
       "<table border=\"1\" class=\"dataframe\">\n",
       "  <thead>\n",
       "    <tr style=\"text-align: right;\">\n",
       "      <th></th>\n",
       "      <th>Article</th>\n",
       "      <th>Title</th>\n",
       "    </tr>\n",
       "  </thead>\n",
       "  <tbody>\n",
       "    <tr>\n",
       "      <th>0</th>\n",
       "      <td>Data analysis is the process of inspecting and...</td>\n",
       "      <td>Best Books to Learn Data Analysis</td>\n",
       "    </tr>\n",
       "    <tr>\n",
       "      <th>1</th>\n",
       "      <td>The performance of a machine learning algorith...</td>\n",
       "      <td>Assumptions of Machine Learning Algorithms</td>\n",
       "    </tr>\n",
       "    <tr>\n",
       "      <th>2</th>\n",
       "      <td>You must have seen the news divided into categ...</td>\n",
       "      <td>News Classification with Machine Learning</td>\n",
       "    </tr>\n",
       "    <tr>\n",
       "      <th>3</th>\n",
       "      <td>When there are only two classes in a classific...</td>\n",
       "      <td>Multiclass Classification Algorithms in Machin...</td>\n",
       "    </tr>\n",
       "    <tr>\n",
       "      <th>4</th>\n",
       "      <td>The Multinomial Naive Bayes is one of the vari...</td>\n",
       "      <td>Multinomial Naive Bayes in Machine Learning</td>\n",
       "    </tr>\n",
       "    <tr>\n",
       "      <th>5</th>\n",
       "      <td>You must have seen the news divided into categ...</td>\n",
       "      <td>News Classification with Machine Learning</td>\n",
       "    </tr>\n",
       "    <tr>\n",
       "      <th>6</th>\n",
       "      <td>Natural language processing or NLP is a subfie...</td>\n",
       "      <td>Best Books to Learn NLP</td>\n",
       "    </tr>\n",
       "    <tr>\n",
       "      <th>7</th>\n",
       "      <td>By using a third-party application or API to m...</td>\n",
       "      <td>Send Instagram Messages using Python</td>\n",
       "    </tr>\n",
       "    <tr>\n",
       "      <th>8</th>\n",
       "      <td>Twitter is one of the most popular social medi...</td>\n",
       "      <td>Pfizer Vaccine Sentiment Analysis using Python</td>\n",
       "    </tr>\n",
       "    <tr>\n",
       "      <th>9</th>\n",
       "      <td>The squid game is currently one of the most tr...</td>\n",
       "      <td>Squid Game Sentiment Analysis using Python</td>\n",
       "    </tr>\n",
       "    <tr>\n",
       "      <th>10</th>\n",
       "      <td>Computer Vision is one of the fields of Artifi...</td>\n",
       "      <td>Best Books to Learn Computer Vision</td>\n",
       "    </tr>\n",
       "    <tr>\n",
       "      <th>11</th>\n",
       "      <td>Python is one of the most popular programming ...</td>\n",
       "      <td>Best Resources to Learn Python</td>\n",
       "    </tr>\n",
       "    <tr>\n",
       "      <th>12</th>\n",
       "      <td>API stands for Application Programming Interfa...</td>\n",
       "      <td>Best Python Frameworks to Build APIs</td>\n",
       "    </tr>\n",
       "    <tr>\n",
       "      <th>13</th>\n",
       "      <td>A voice recorder is found in every smartphone ...</td>\n",
       "      <td>Voice Recorder using Python</td>\n",
       "    </tr>\n",
       "    <tr>\n",
       "      <th>14</th>\n",
       "      <td>Language detection is a natural language proce...</td>\n",
       "      <td>Language Detection with Machine Learning</td>\n",
       "    </tr>\n",
       "    <tr>\n",
       "      <th>15</th>\n",
       "      <td>A Multilayer Perceptron or MLP is one of the s...</td>\n",
       "      <td>Multilayer Perceptron in Machine Learning</td>\n",
       "    </tr>\n",
       "    <tr>\n",
       "      <th>16</th>\n",
       "      <td>A neural network is a subset of machine learni...</td>\n",
       "      <td>Types of Neural Networks</td>\n",
       "    </tr>\n",
       "    <tr>\n",
       "      <th>17</th>\n",
       "      <td>Clustering is the task of identifying similar ...</td>\n",
       "      <td>Clustering Algorithms in Machine Learning</td>\n",
       "    </tr>\n",
       "    <tr>\n",
       "      <th>18</th>\n",
       "      <td>Dictionaries are one of the most useful data s...</td>\n",
       "      <td>For Loop Over Keys and Values in a Python Dict...</td>\n",
       "    </tr>\n",
       "    <tr>\n",
       "      <th>19</th>\n",
       "      <td>Health Insurance is a type of insurance that c...</td>\n",
       "      <td>Health Insurance Premium Prediction with Machi...</td>\n",
       "    </tr>\n",
       "    <tr>\n",
       "      <th>20</th>\n",
       "      <td>The mean shift algorithm is a nonparametric cl...</td>\n",
       "      <td>Mean Shift Clustering in Machine Learning</td>\n",
       "    </tr>\n",
       "    <tr>\n",
       "      <th>21</th>\n",
       "      <td>The BIRCH is a Clustering algorithm in machine...</td>\n",
       "      <td>BIRCH Clustering in Machine Learning</td>\n",
       "    </tr>\n",
       "    <tr>\n",
       "      <th>22</th>\n",
       "      <td>Agglomerative clustering is based on hierarchi...</td>\n",
       "      <td>Agglomerative Clustering in Machine Learning</td>\n",
       "    </tr>\n",
       "    <tr>\n",
       "      <th>23</th>\n",
       "      <td>DBSCAN stands for Density-Based Spatial Cluste...</td>\n",
       "      <td>DBSCAN Clustering in Machine Learning</td>\n",
       "    </tr>\n",
       "    <tr>\n",
       "      <th>24</th>\n",
       "      <td>The K-Means Clustering is a clustering algorit...</td>\n",
       "      <td>K-Means Clustering in Machine Learning</td>\n",
       "    </tr>\n",
       "    <tr>\n",
       "      <th>25</th>\n",
       "      <td>A scatter plot is one of the most useful ways ...</td>\n",
       "      <td>Animated Scatter Plot using Python</td>\n",
       "    </tr>\n",
       "    <tr>\n",
       "      <th>26</th>\n",
       "      <td>Recently, we have seen an increase of more tha...</td>\n",
       "      <td>Tata Motors Stock Price Prediction with Machin...</td>\n",
       "    </tr>\n",
       "    <tr>\n",
       "      <th>27</th>\n",
       "      <td>Apple has just announced the date of its Septe...</td>\n",
       "      <td>Apple Stock Price Prediction with Machine Lear...</td>\n",
       "    </tr>\n",
       "    <tr>\n",
       "      <th>28</th>\n",
       "      <td>Deep learning is a subset of machine learning ...</td>\n",
       "      <td>Best Books to Learn Deep Learning</td>\n",
       "    </tr>\n",
       "    <tr>\n",
       "      <th>29</th>\n",
       "      <td>Many machine learning algorithms can be used t...</td>\n",
       "      <td>Applications of Deep Learning</td>\n",
       "    </tr>\n",
       "    <tr>\n",
       "      <th>30</th>\n",
       "      <td>Almost every app or website you visit today sh...</td>\n",
       "      <td>Introduction to Recommendation Systems</td>\n",
       "    </tr>\n",
       "    <tr>\n",
       "      <th>31</th>\n",
       "      <td>There are so many algorithms in machine learni...</td>\n",
       "      <td>Use Cases of Different Machine Learning Algori...</td>\n",
       "    </tr>\n",
       "    <tr>\n",
       "      <th>32</th>\n",
       "      <td>In machine learning, the Naive Bayes algorithm...</td>\n",
       "      <td>Naive Bayes Algorithm in Machine Learning</td>\n",
       "    </tr>\n",
       "    <tr>\n",
       "      <th>33</th>\n",
       "      <td>Swapping elements of a Python list is very sim...</td>\n",
       "      <td>Swap Items of a Python List</td>\n",
       "    </tr>\n",
       "  </tbody>\n",
       "</table>\n",
       "</div>"
      ],
      "text/plain": [
       "                                              Article  \\\n",
       "0   Data analysis is the process of inspecting and...   \n",
       "1   The performance of a machine learning algorith...   \n",
       "2   You must have seen the news divided into categ...   \n",
       "3   When there are only two classes in a classific...   \n",
       "4   The Multinomial Naive Bayes is one of the vari...   \n",
       "5   You must have seen the news divided into categ...   \n",
       "6   Natural language processing or NLP is a subfie...   \n",
       "7   By using a third-party application or API to m...   \n",
       "8   Twitter is one of the most popular social medi...   \n",
       "9   The squid game is currently one of the most tr...   \n",
       "10  Computer Vision is one of the fields of Artifi...   \n",
       "11  Python is one of the most popular programming ...   \n",
       "12  API stands for Application Programming Interfa...   \n",
       "13  A voice recorder is found in every smartphone ...   \n",
       "14  Language detection is a natural language proce...   \n",
       "15  A Multilayer Perceptron or MLP is one of the s...   \n",
       "16  A neural network is a subset of machine learni...   \n",
       "17  Clustering is the task of identifying similar ...   \n",
       "18  Dictionaries are one of the most useful data s...   \n",
       "19  Health Insurance is a type of insurance that c...   \n",
       "20  The mean shift algorithm is a nonparametric cl...   \n",
       "21  The BIRCH is a Clustering algorithm in machine...   \n",
       "22  Agglomerative clustering is based on hierarchi...   \n",
       "23  DBSCAN stands for Density-Based Spatial Cluste...   \n",
       "24  The K-Means Clustering is a clustering algorit...   \n",
       "25  A scatter plot is one of the most useful ways ...   \n",
       "26  Recently, we have seen an increase of more tha...   \n",
       "27  Apple has just announced the date of its Septe...   \n",
       "28  Deep learning is a subset of machine learning ...   \n",
       "29  Many machine learning algorithms can be used t...   \n",
       "30  Almost every app or website you visit today sh...   \n",
       "31  There are so many algorithms in machine learni...   \n",
       "32  In machine learning, the Naive Bayes algorithm...   \n",
       "33  Swapping elements of a Python list is very sim...   \n",
       "\n",
       "                                                Title  \n",
       "0                   Best Books to Learn Data Analysis  \n",
       "1          Assumptions of Machine Learning Algorithms  \n",
       "2           News Classification with Machine Learning  \n",
       "3   Multiclass Classification Algorithms in Machin...  \n",
       "4         Multinomial Naive Bayes in Machine Learning  \n",
       "5           News Classification with Machine Learning  \n",
       "6                             Best Books to Learn NLP  \n",
       "7                Send Instagram Messages using Python  \n",
       "8      Pfizer Vaccine Sentiment Analysis using Python  \n",
       "9          Squid Game Sentiment Analysis using Python  \n",
       "10                Best Books to Learn Computer Vision  \n",
       "11                     Best Resources to Learn Python  \n",
       "12               Best Python Frameworks to Build APIs  \n",
       "13                        Voice Recorder using Python  \n",
       "14           Language Detection with Machine Learning  \n",
       "15          Multilayer Perceptron in Machine Learning  \n",
       "16                           Types of Neural Networks  \n",
       "17          Clustering Algorithms in Machine Learning  \n",
       "18  For Loop Over Keys and Values in a Python Dict...  \n",
       "19  Health Insurance Premium Prediction with Machi...  \n",
       "20          Mean Shift Clustering in Machine Learning  \n",
       "21               BIRCH Clustering in Machine Learning  \n",
       "22       Agglomerative Clustering in Machine Learning  \n",
       "23              DBSCAN Clustering in Machine Learning  \n",
       "24             K-Means Clustering in Machine Learning  \n",
       "25                 Animated Scatter Plot using Python  \n",
       "26  Tata Motors Stock Price Prediction with Machin...  \n",
       "27  Apple Stock Price Prediction with Machine Lear...  \n",
       "28                  Best Books to Learn Deep Learning  \n",
       "29                      Applications of Deep Learning  \n",
       "30             Introduction to Recommendation Systems  \n",
       "31  Use Cases of Different Machine Learning Algori...  \n",
       "32          Naive Bayes Algorithm in Machine Learning  \n",
       "33                        Swap Items of a Python List  "
      ]
     },
     "execution_count": 3,
     "metadata": {},
     "output_type": "execute_result"
    }
   ],
   "source": [
    "data = pd.read_csv(\"Topic Modelling/articles.csv\", encoding='latin-1')\n",
    "data"
   ]
  },
  {
   "cell_type": "code",
   "execution_count": 4,
   "metadata": {},
   "outputs": [
    {
     "data": {
      "application/vnd.plotly.v1+json": {
       "config": {
        "plotlyServerURL": "https://plot.ly"
       },
       "data": [
        {
         "hovertemplate": "x: %{x}<br>y: %{y}<br>color: [%{z[0]}, %{z[1]}, %{z[2]}]<extra></extra>",
         "name": "0",
         "source": "data:image/png;base64,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",
         "type": "image",
         "xaxis": "x",
         "yaxis": "y"
        }
       ],
       "layout": {
        "showlegend": false,
        "template": {
         "data": {
          "bar": [
           {
            "error_x": {
             "color": "#2a3f5f"
            },
            "error_y": {
             "color": "#2a3f5f"
            },
            "marker": {
             "line": {
              "color": "#E5ECF6",
              "width": 0.5
             },
             "pattern": {
              "fillmode": "overlay",
              "size": 10,
              "solidity": 0.2
             }
            },
            "type": "bar"
           }
          ],
          "barpolar": [
           {
            "marker": {
             "line": {
              "color": "#E5ECF6",
              "width": 0.5
             },
             "pattern": {
              "fillmode": "overlay",
              "size": 10,
              "solidity": 0.2
             }
            },
            "type": "barpolar"
           }
          ],
          "carpet": [
           {
            "aaxis": {
             "endlinecolor": "#2a3f5f",
             "gridcolor": "white",
             "linecolor": "white",
             "minorgridcolor": "white",
             "startlinecolor": "#2a3f5f"
            },
            "baxis": {
             "endlinecolor": "#2a3f5f",
             "gridcolor": "white",
             "linecolor": "white",
             "minorgridcolor": "white",
             "startlinecolor": "#2a3f5f"
            },
            "type": "carpet"
           }
          ],
          "choropleth": [
           {
            "colorbar": {
             "outlinewidth": 0,
             "ticks": ""
            },
            "type": "choropleth"
           }
          ],
          "contour": [
           {
            "colorbar": {
             "outlinewidth": 0,
             "ticks": ""
            },
            "colorscale": [
             [
              0,
              "#0d0887"
             ],
             [
              0.1111111111111111,
              "#46039f"
             ],
             [
              0.2222222222222222,
              "#7201a8"
             ],
             [
              0.3333333333333333,
              "#9c179e"
             ],
             [
              0.4444444444444444,
              "#bd3786"
             ],
             [
              0.5555555555555556,
              "#d8576b"
             ],
             [
              0.6666666666666666,
              "#ed7953"
             ],
             [
              0.7777777777777778,
              "#fb9f3a"
             ],
             [
              0.8888888888888888,
              "#fdca26"
             ],
             [
              1,
              "#f0f921"
             ]
            ],
            "type": "contour"
           }
          ],
          "contourcarpet": [
           {
            "colorbar": {
             "outlinewidth": 0,
             "ticks": ""
            },
            "type": "contourcarpet"
           }
          ],
          "heatmap": [
           {
            "colorbar": {
             "outlinewidth": 0,
             "ticks": ""
            },
            "colorscale": [
             [
              0,
              "#0d0887"
             ],
             [
              0.1111111111111111,
              "#46039f"
             ],
             [
              0.2222222222222222,
              "#7201a8"
             ],
             [
              0.3333333333333333,
              "#9c179e"
             ],
             [
              0.4444444444444444,
              "#bd3786"
             ],
             [
              0.5555555555555556,
              "#d8576b"
             ],
             [
              0.6666666666666666,
              "#ed7953"
             ],
             [
              0.7777777777777778,
              "#fb9f3a"
             ],
             [
              0.8888888888888888,
              "#fdca26"
             ],
             [
              1,
              "#f0f921"
             ]
            ],
            "type": "heatmap"
           }
          ],
          "heatmapgl": [
           {
            "colorbar": {
             "outlinewidth": 0,
             "ticks": ""
            },
            "colorscale": [
             [
              0,
              "#0d0887"
             ],
             [
              0.1111111111111111,
              "#46039f"
             ],
             [
              0.2222222222222222,
              "#7201a8"
             ],
             [
              0.3333333333333333,
              "#9c179e"
             ],
             [
              0.4444444444444444,
              "#bd3786"
             ],
             [
              0.5555555555555556,
              "#d8576b"
             ],
             [
              0.6666666666666666,
              "#ed7953"
             ],
             [
              0.7777777777777778,
              "#fb9f3a"
             ],
             [
              0.8888888888888888,
              "#fdca26"
             ],
             [
              1,
              "#f0f921"
             ]
            ],
            "type": "heatmapgl"
           }
          ],
          "histogram": [
           {
            "marker": {
             "pattern": {
              "fillmode": "overlay",
              "size": 10,
              "solidity": 0.2
             }
            },
            "type": "histogram"
           }
          ],
          "histogram2d": [
           {
            "colorbar": {
             "outlinewidth": 0,
             "ticks": ""
            },
            "colorscale": [
             [
              0,
              "#0d0887"
             ],
             [
              0.1111111111111111,
              "#46039f"
             ],
             [
              0.2222222222222222,
              "#7201a8"
             ],
             [
              0.3333333333333333,
              "#9c179e"
             ],
             [
              0.4444444444444444,
              "#bd3786"
             ],
             [
              0.5555555555555556,
              "#d8576b"
             ],
             [
              0.6666666666666666,
              "#ed7953"
             ],
             [
              0.7777777777777778,
              "#fb9f3a"
             ],
             [
              0.8888888888888888,
              "#fdca26"
             ],
             [
              1,
              "#f0f921"
             ]
            ],
            "type": "histogram2d"
           }
          ],
          "histogram2dcontour": [
           {
            "colorbar": {
             "outlinewidth": 0,
             "ticks": ""
            },
            "colorscale": [
             [
              0,
              "#0d0887"
             ],
             [
              0.1111111111111111,
              "#46039f"
             ],
             [
              0.2222222222222222,
              "#7201a8"
             ],
             [
              0.3333333333333333,
              "#9c179e"
             ],
             [
              0.4444444444444444,
              "#bd3786"
             ],
             [
              0.5555555555555556,
              "#d8576b"
             ],
             [
              0.6666666666666666,
              "#ed7953"
             ],
             [
              0.7777777777777778,
              "#fb9f3a"
             ],
             [
              0.8888888888888888,
              "#fdca26"
             ],
             [
              1,
              "#f0f921"
             ]
            ],
            "type": "histogram2dcontour"
           }
          ],
          "mesh3d": [
           {
            "colorbar": {
             "outlinewidth": 0,
             "ticks": ""
            },
            "type": "mesh3d"
           }
          ],
          "parcoords": [
           {
            "line": {
             "colorbar": {
              "outlinewidth": 0,
              "ticks": ""
             }
            },
            "type": "parcoords"
           }
          ],
          "pie": [
           {
            "automargin": true,
            "type": "pie"
           }
          ],
          "scatter": [
           {
            "fillpattern": {
             "fillmode": "overlay",
             "size": 10,
             "solidity": 0.2
            },
            "type": "scatter"
           }
          ],
          "scatter3d": [
           {
            "line": {
             "colorbar": {
              "outlinewidth": 0,
              "ticks": ""
             }
            },
            "marker": {
             "colorbar": {
              "outlinewidth": 0,
              "ticks": ""
             }
            },
            "type": "scatter3d"
           }
          ],
          "scattercarpet": [
           {
            "marker": {
             "colorbar": {
              "outlinewidth": 0,
              "ticks": ""
             }
            },
            "type": "scattercarpet"
           }
          ],
          "scattergeo": [
           {
            "marker": {
             "colorbar": {
              "outlinewidth": 0,
              "ticks": ""
             }
            },
            "type": "scattergeo"
           }
          ],
          "scattergl": [
           {
            "marker": {
             "colorbar": {
              "outlinewidth": 0,
              "ticks": ""
             }
            },
            "type": "scattergl"
           }
          ],
          "scattermapbox": [
           {
            "marker": {
             "colorbar": {
              "outlinewidth": 0,
              "ticks": ""
             }
            },
            "type": "scattermapbox"
           }
          ],
          "scatterpolar": [
           {
            "marker": {
             "colorbar": {
              "outlinewidth": 0,
              "ticks": ""
             }
            },
            "type": "scatterpolar"
           }
          ],
          "scatterpolargl": [
           {
            "marker": {
             "colorbar": {
              "outlinewidth": 0,
              "ticks": ""
             }
            },
            "type": "scatterpolargl"
           }
          ],
          "scatterternary": [
           {
            "marker": {
             "colorbar": {
              "outlinewidth": 0,
              "ticks": ""
             }
            },
            "type": "scatterternary"
           }
          ],
          "surface": [
           {
            "colorbar": {
             "outlinewidth": 0,
             "ticks": ""
            },
            "colorscale": [
             [
              0,
              "#0d0887"
             ],
             [
              0.1111111111111111,
              "#46039f"
             ],
             [
              0.2222222222222222,
              "#7201a8"
             ],
             [
              0.3333333333333333,
              "#9c179e"
             ],
             [
              0.4444444444444444,
              "#bd3786"
             ],
             [
              0.5555555555555556,
              "#d8576b"
             ],
             [
              0.6666666666666666,
              "#ed7953"
             ],
             [
              0.7777777777777778,
              "#fb9f3a"
             ],
             [
              0.8888888888888888,
              "#fdca26"
             ],
             [
              1,
              "#f0f921"
             ]
            ],
            "type": "surface"
           }
          ],
          "table": [
           {
            "cells": {
             "fill": {
              "color": "#EBF0F8"
             },
             "line": {
              "color": "white"
             }
            },
            "header": {
             "fill": {
              "color": "#C8D4E3"
             },
             "line": {
              "color": "white"
             }
            },
            "type": "table"
           }
          ]
         },
         "layout": {
          "annotationdefaults": {
           "arrowcolor": "#2a3f5f",
           "arrowhead": 0,
           "arrowwidth": 1
          },
          "autotypenumbers": "strict",
          "coloraxis": {
           "colorbar": {
            "outlinewidth": 0,
            "ticks": ""
           }
          },
          "colorscale": {
           "diverging": [
            [
             0,
             "#8e0152"
            ],
            [
             0.1,
             "#c51b7d"
            ],
            [
             0.2,
             "#de77ae"
            ],
            [
             0.3,
             "#f1b6da"
            ],
            [
             0.4,
             "#fde0ef"
            ],
            [
             0.5,
             "#f7f7f7"
            ],
            [
             0.6,
             "#e6f5d0"
            ],
            [
             0.7,
             "#b8e186"
            ],
            [
             0.8,
             "#7fbc41"
            ],
            [
             0.9,
             "#4d9221"
            ],
            [
             1,
             "#276419"
            ]
           ],
           "sequential": [
            [
             0,
             "#0d0887"
            ],
            [
             0.1111111111111111,
             "#46039f"
            ],
            [
             0.2222222222222222,
             "#7201a8"
            ],
            [
             0.3333333333333333,
             "#9c179e"
            ],
            [
             0.4444444444444444,
             "#bd3786"
            ],
            [
             0.5555555555555556,
             "#d8576b"
            ],
            [
             0.6666666666666666,
             "#ed7953"
            ],
            [
             0.7777777777777778,
             "#fb9f3a"
            ],
            [
             0.8888888888888888,
             "#fdca26"
            ],
            [
             1,
             "#f0f921"
            ]
           ],
           "sequentialminus": [
            [
             0,
             "#0d0887"
            ],
            [
             0.1111111111111111,
             "#46039f"
            ],
            [
             0.2222222222222222,
             "#7201a8"
            ],
            [
             0.3333333333333333,
             "#9c179e"
            ],
            [
             0.4444444444444444,
             "#bd3786"
            ],
            [
             0.5555555555555556,
             "#d8576b"
            ],
            [
             0.6666666666666666,
             "#ed7953"
            ],
            [
             0.7777777777777778,
             "#fb9f3a"
            ],
            [
             0.8888888888888888,
             "#fdca26"
            ],
            [
             1,
             "#f0f921"
            ]
           ]
          },
          "colorway": [
           "#636efa",
           "#EF553B",
           "#00cc96",
           "#ab63fa",
           "#FFA15A",
           "#19d3f3",
           "#FF6692",
           "#B6E880",
           "#FF97FF",
           "#FECB52"
          ],
          "font": {
           "color": "#2a3f5f"
          },
          "geo": {
           "bgcolor": "white",
           "lakecolor": "white",
           "landcolor": "#E5ECF6",
           "showlakes": true,
           "showland": true,
           "subunitcolor": "white"
          },
          "hoverlabel": {
           "align": "left"
          },
          "hovermode": "closest",
          "mapbox": {
           "style": "light"
          },
          "paper_bgcolor": "white",
          "plot_bgcolor": "#E5ECF6",
          "polar": {
           "angularaxis": {
            "gridcolor": "white",
            "linecolor": "white",
            "ticks": ""
           },
           "bgcolor": "#E5ECF6",
           "radialaxis": {
            "gridcolor": "white",
            "linecolor": "white",
            "ticks": ""
           }
          },
          "scene": {
           "xaxis": {
            "backgroundcolor": "#E5ECF6",
            "gridcolor": "white",
            "gridwidth": 2,
            "linecolor": "white",
            "showbackground": true,
            "ticks": "",
            "zerolinecolor": "white"
           },
           "yaxis": {
            "backgroundcolor": "#E5ECF6",
            "gridcolor": "white",
            "gridwidth": 2,
            "linecolor": "white",
            "showbackground": true,
            "ticks": "",
            "zerolinecolor": "white"
           },
           "zaxis": {
            "backgroundcolor": "#E5ECF6",
            "gridcolor": "white",
            "gridwidth": 2,
            "linecolor": "white",
            "showbackground": true,
            "ticks": "",
            "zerolinecolor": "white"
           }
          },
          "shapedefaults": {
           "line": {
            "color": "#2a3f5f"
           }
          },
          "ternary": {
           "aaxis": {
            "gridcolor": "white",
            "linecolor": "white",
            "ticks": ""
           },
           "baxis": {
            "gridcolor": "white",
            "linecolor": "white",
            "ticks": ""
           },
           "bgcolor": "#E5ECF6",
           "caxis": {
            "gridcolor": "white",
            "linecolor": "white",
            "ticks": ""
           }
          },
          "title": {
           "x": 0.05
          },
          "xaxis": {
           "automargin": true,
           "gridcolor": "white",
           "linecolor": "white",
           "ticks": "",
           "title": {
            "standoff": 15
           },
           "zerolinecolor": "white",
           "zerolinewidth": 2
          },
          "yaxis": {
           "automargin": true,
           "gridcolor": "white",
           "linecolor": "white",
           "ticks": "",
           "title": {
            "standoff": 15
           },
           "zerolinecolor": "white",
           "zerolinewidth": 2
          }
         }
        },
        "title": {
         "text": "Word Cloud of Titles"
        },
        "xaxis": {
         "anchor": "y",
         "domain": [
          0,
          1
         ]
        },
        "yaxis": {
         "anchor": "x",
         "domain": [
          0,
          1
         ]
        }
       }
      }
     },
     "metadata": {},
     "output_type": "display_data"
    }
   ],
   "source": [
    "# Combine all titles into a single string\n",
    "titles_text = ' '.join(data['Title'])\n",
    "\n",
    "# Create a WordCloud object\n",
    "wordcloud = WordCloud(width=800, height=400, background_color='white').generate(titles_text)\n",
    "\n",
    "# Plot the Word Cloud\n",
    "fig = px.imshow(wordcloud, title='Word Cloud of Titles')\n",
    "fig.update_layout(showlegend=False)\n",
    "fig.show()"
   ]
  },
  {
   "cell_type": "code",
   "execution_count": 5,
   "metadata": {},
   "outputs": [
    {
     "data": {
      "application/vnd.plotly.v1+json": {
       "config": {
        "plotlyServerURL": "https://plot.ly"
       },
       "data": [
        {
         "alignmentgroup": "True",
         "bingroup": "x",
         "hovertemplate": "Sentiment=%{x}<br>count=%{y}<extra></extra>",
         "legendgroup": "",
         "marker": {
          "color": "#636efa",
          "pattern": {
           "shape": ""
          }
         },
         "name": "",
         "offsetgroup": "",
         "orientation": "v",
         "showlegend": false,
         "type": "histogram",
         "x": [
          0.6666666666666666,
          0.02083333333333333,
          0.6,
          0.625,
          -0.10142857142857142,
          0.6,
          0.2833333333333333,
          0.05,
          0.40666666666666673,
          -0.10833333333333334,
          0.346875,
          0.5800000000000001,
          0.4791666666666667,
          0.2,
          0.016666666666666653,
          0,
          -0.075,
          0,
          0.15,
          0.08333333333333333,
          -0.234375,
          0,
          0.1576923076923077,
          -0.8,
          0.0911111111111111,
          0.4,
          0.175,
          0.24545454545454545,
          0.11892857142857145,
          0.08979591836734693,
          0.26999999999999996,
          0.2885714285714286,
          -0.18125,
          0
         ],
         "xaxis": "x",
         "yaxis": "y"
        }
       ],
       "layout": {
        "barmode": "relative",
        "legend": {
         "tracegroupgap": 0
        },
        "template": {
         "data": {
          "bar": [
           {
            "error_x": {
             "color": "#2a3f5f"
            },
            "error_y": {
             "color": "#2a3f5f"
            },
            "marker": {
             "line": {
              "color": "#E5ECF6",
              "width": 0.5
             },
             "pattern": {
              "fillmode": "overlay",
              "size": 10,
              "solidity": 0.2
             }
            },
            "type": "bar"
           }
          ],
          "barpolar": [
           {
            "marker": {
             "line": {
              "color": "#E5ECF6",
              "width": 0.5
             },
             "pattern": {
              "fillmode": "overlay",
              "size": 10,
              "solidity": 0.2
             }
            },
            "type": "barpolar"
           }
          ],
          "carpet": [
           {
            "aaxis": {
             "endlinecolor": "#2a3f5f",
             "gridcolor": "white",
             "linecolor": "white",
             "minorgridcolor": "white",
             "startlinecolor": "#2a3f5f"
            },
            "baxis": {
             "endlinecolor": "#2a3f5f",
             "gridcolor": "white",
             "linecolor": "white",
             "minorgridcolor": "white",
             "startlinecolor": "#2a3f5f"
            },
            "type": "carpet"
           }
          ],
          "choropleth": [
           {
            "colorbar": {
             "outlinewidth": 0,
             "ticks": ""
            },
            "type": "choropleth"
           }
          ],
          "contour": [
           {
            "colorbar": {
             "outlinewidth": 0,
             "ticks": ""
            },
            "colorscale": [
             [
              0,
              "#0d0887"
             ],
             [
              0.1111111111111111,
              "#46039f"
             ],
             [
              0.2222222222222222,
              "#7201a8"
             ],
             [
              0.3333333333333333,
              "#9c179e"
             ],
             [
              0.4444444444444444,
              "#bd3786"
             ],
             [
              0.5555555555555556,
              "#d8576b"
             ],
             [
              0.6666666666666666,
              "#ed7953"
             ],
             [
              0.7777777777777778,
              "#fb9f3a"
             ],
             [
              0.8888888888888888,
              "#fdca26"
             ],
             [
              1,
              "#f0f921"
             ]
            ],
            "type": "contour"
           }
          ],
          "contourcarpet": [
           {
            "colorbar": {
             "outlinewidth": 0,
             "ticks": ""
            },
            "type": "contourcarpet"
           }
          ],
          "heatmap": [
           {
            "colorbar": {
             "outlinewidth": 0,
             "ticks": ""
            },
            "colorscale": [
             [
              0,
              "#0d0887"
             ],
             [
              0.1111111111111111,
              "#46039f"
             ],
             [
              0.2222222222222222,
              "#7201a8"
             ],
             [
              0.3333333333333333,
              "#9c179e"
             ],
             [
              0.4444444444444444,
              "#bd3786"
             ],
             [
              0.5555555555555556,
              "#d8576b"
             ],
             [
              0.6666666666666666,
              "#ed7953"
             ],
             [
              0.7777777777777778,
              "#fb9f3a"
             ],
             [
              0.8888888888888888,
              "#fdca26"
             ],
             [
              1,
              "#f0f921"
             ]
            ],
            "type": "heatmap"
           }
          ],
          "heatmapgl": [
           {
            "colorbar": {
             "outlinewidth": 0,
             "ticks": ""
            },
            "colorscale": [
             [
              0,
              "#0d0887"
             ],
             [
              0.1111111111111111,
              "#46039f"
             ],
             [
              0.2222222222222222,
              "#7201a8"
             ],
             [
              0.3333333333333333,
              "#9c179e"
             ],
             [
              0.4444444444444444,
              "#bd3786"
             ],
             [
              0.5555555555555556,
              "#d8576b"
             ],
             [
              0.6666666666666666,
              "#ed7953"
             ],
             [
              0.7777777777777778,
              "#fb9f3a"
             ],
             [
              0.8888888888888888,
              "#fdca26"
             ],
             [
              1,
              "#f0f921"
             ]
            ],
            "type": "heatmapgl"
           }
          ],
          "histogram": [
           {
            "marker": {
             "pattern": {
              "fillmode": "overlay",
              "size": 10,
              "solidity": 0.2
             }
            },
            "type": "histogram"
           }
          ],
          "histogram2d": [
           {
            "colorbar": {
             "outlinewidth": 0,
             "ticks": ""
            },
            "colorscale": [
             [
              0,
              "#0d0887"
             ],
             [
              0.1111111111111111,
              "#46039f"
             ],
             [
              0.2222222222222222,
              "#7201a8"
             ],
             [
              0.3333333333333333,
              "#9c179e"
             ],
             [
              0.4444444444444444,
              "#bd3786"
             ],
             [
              0.5555555555555556,
              "#d8576b"
             ],
             [
              0.6666666666666666,
              "#ed7953"
             ],
             [
              0.7777777777777778,
              "#fb9f3a"
             ],
             [
              0.8888888888888888,
              "#fdca26"
             ],
             [
              1,
              "#f0f921"
             ]
            ],
            "type": "histogram2d"
           }
          ],
          "histogram2dcontour": [
           {
            "colorbar": {
             "outlinewidth": 0,
             "ticks": ""
            },
            "colorscale": [
             [
              0,
              "#0d0887"
             ],
             [
              0.1111111111111111,
              "#46039f"
             ],
             [
              0.2222222222222222,
              "#7201a8"
             ],
             [
              0.3333333333333333,
              "#9c179e"
             ],
             [
              0.4444444444444444,
              "#bd3786"
             ],
             [
              0.5555555555555556,
              "#d8576b"
             ],
             [
              0.6666666666666666,
              "#ed7953"
             ],
             [
              0.7777777777777778,
              "#fb9f3a"
             ],
             [
              0.8888888888888888,
              "#fdca26"
             ],
             [
              1,
              "#f0f921"
             ]
            ],
            "type": "histogram2dcontour"
           }
          ],
          "mesh3d": [
           {
            "colorbar": {
             "outlinewidth": 0,
             "ticks": ""
            },
            "type": "mesh3d"
           }
          ],
          "parcoords": [
           {
            "line": {
             "colorbar": {
              "outlinewidth": 0,
              "ticks": ""
             }
            },
            "type": "parcoords"
           }
          ],
          "pie": [
           {
            "automargin": true,
            "type": "pie"
           }
          ],
          "scatter": [
           {
            "fillpattern": {
             "fillmode": "overlay",
             "size": 10,
             "solidity": 0.2
            },
            "type": "scatter"
           }
          ],
          "scatter3d": [
           {
            "line": {
             "colorbar": {
              "outlinewidth": 0,
              "ticks": ""
             }
            },
            "marker": {
             "colorbar": {
              "outlinewidth": 0,
              "ticks": ""
             }
            },
            "type": "scatter3d"
           }
          ],
          "scattercarpet": [
           {
            "marker": {
             "colorbar": {
              "outlinewidth": 0,
              "ticks": ""
             }
            },
            "type": "scattercarpet"
           }
          ],
          "scattergeo": [
           {
            "marker": {
             "colorbar": {
              "outlinewidth": 0,
              "ticks": ""
             }
            },
            "type": "scattergeo"
           }
          ],
          "scattergl": [
           {
            "marker": {
             "colorbar": {
              "outlinewidth": 0,
              "ticks": ""
             }
            },
            "type": "scattergl"
           }
          ],
          "scattermapbox": [
           {
            "marker": {
             "colorbar": {
              "outlinewidth": 0,
              "ticks": ""
             }
            },
            "type": "scattermapbox"
           }
          ],
          "scatterpolar": [
           {
            "marker": {
             "colorbar": {
              "outlinewidth": 0,
              "ticks": ""
             }
            },
            "type": "scatterpolar"
           }
          ],
          "scatterpolargl": [
           {
            "marker": {
             "colorbar": {
              "outlinewidth": 0,
              "ticks": ""
             }
            },
            "type": "scatterpolargl"
           }
          ],
          "scatterternary": [
           {
            "marker": {
             "colorbar": {
              "outlinewidth": 0,
              "ticks": ""
             }
            },
            "type": "scatterternary"
           }
          ],
          "surface": [
           {
            "colorbar": {
             "outlinewidth": 0,
             "ticks": ""
            },
            "colorscale": [
             [
              0,
              "#0d0887"
             ],
             [
              0.1111111111111111,
              "#46039f"
             ],
             [
              0.2222222222222222,
              "#7201a8"
             ],
             [
              0.3333333333333333,
              "#9c179e"
             ],
             [
              0.4444444444444444,
              "#bd3786"
             ],
             [
              0.5555555555555556,
              "#d8576b"
             ],
             [
              0.6666666666666666,
              "#ed7953"
             ],
             [
              0.7777777777777778,
              "#fb9f3a"
             ],
             [
              0.8888888888888888,
              "#fdca26"
             ],
             [
              1,
              "#f0f921"
             ]
            ],
            "type": "surface"
           }
          ],
          "table": [
           {
            "cells": {
             "fill": {
              "color": "#EBF0F8"
             },
             "line": {
              "color": "white"
             }
            },
            "header": {
             "fill": {
              "color": "#C8D4E3"
             },
             "line": {
              "color": "white"
             }
            },
            "type": "table"
           }
          ]
         },
         "layout": {
          "annotationdefaults": {
           "arrowcolor": "#2a3f5f",
           "arrowhead": 0,
           "arrowwidth": 1
          },
          "autotypenumbers": "strict",
          "coloraxis": {
           "colorbar": {
            "outlinewidth": 0,
            "ticks": ""
           }
          },
          "colorscale": {
           "diverging": [
            [
             0,
             "#8e0152"
            ],
            [
             0.1,
             "#c51b7d"
            ],
            [
             0.2,
             "#de77ae"
            ],
            [
             0.3,
             "#f1b6da"
            ],
            [
             0.4,
             "#fde0ef"
            ],
            [
             0.5,
             "#f7f7f7"
            ],
            [
             0.6,
             "#e6f5d0"
            ],
            [
             0.7,
             "#b8e186"
            ],
            [
             0.8,
             "#7fbc41"
            ],
            [
             0.9,
             "#4d9221"
            ],
            [
             1,
             "#276419"
            ]
           ],
           "sequential": [
            [
             0,
             "#0d0887"
            ],
            [
             0.1111111111111111,
             "#46039f"
            ],
            [
             0.2222222222222222,
             "#7201a8"
            ],
            [
             0.3333333333333333,
             "#9c179e"
            ],
            [
             0.4444444444444444,
             "#bd3786"
            ],
            [
             0.5555555555555556,
             "#d8576b"
            ],
            [
             0.6666666666666666,
             "#ed7953"
            ],
            [
             0.7777777777777778,
             "#fb9f3a"
            ],
            [
             0.8888888888888888,
             "#fdca26"
            ],
            [
             1,
             "#f0f921"
            ]
           ],
           "sequentialminus": [
            [
             0,
             "#0d0887"
            ],
            [
             0.1111111111111111,
             "#46039f"
            ],
            [
             0.2222222222222222,
             "#7201a8"
            ],
            [
             0.3333333333333333,
             "#9c179e"
            ],
            [
             0.4444444444444444,
             "#bd3786"
            ],
            [
             0.5555555555555556,
             "#d8576b"
            ],
            [
             0.6666666666666666,
             "#ed7953"
            ],
            [
             0.7777777777777778,
             "#fb9f3a"
            ],
            [
             0.8888888888888888,
             "#fdca26"
            ],
            [
             1,
             "#f0f921"
            ]
           ]
          },
          "colorway": [
           "#636efa",
           "#EF553B",
           "#00cc96",
           "#ab63fa",
           "#FFA15A",
           "#19d3f3",
           "#FF6692",
           "#B6E880",
           "#FF97FF",
           "#FECB52"
          ],
          "font": {
           "color": "#2a3f5f"
          },
          "geo": {
           "bgcolor": "white",
           "lakecolor": "white",
           "landcolor": "#E5ECF6",
           "showlakes": true,
           "showland": true,
           "subunitcolor": "white"
          },
          "hoverlabel": {
           "align": "left"
          },
          "hovermode": "closest",
          "mapbox": {
           "style": "light"
          },
          "paper_bgcolor": "white",
          "plot_bgcolor": "#E5ECF6",
          "polar": {
           "angularaxis": {
            "gridcolor": "white",
            "linecolor": "white",
            "ticks": ""
           },
           "bgcolor": "#E5ECF6",
           "radialaxis": {
            "gridcolor": "white",
            "linecolor": "white",
            "ticks": ""
           }
          },
          "scene": {
           "xaxis": {
            "backgroundcolor": "#E5ECF6",
            "gridcolor": "white",
            "gridwidth": 2,
            "linecolor": "white",
            "showbackground": true,
            "ticks": "",
            "zerolinecolor": "white"
           },
           "yaxis": {
            "backgroundcolor": "#E5ECF6",
            "gridcolor": "white",
            "gridwidth": 2,
            "linecolor": "white",
            "showbackground": true,
            "ticks": "",
            "zerolinecolor": "white"
           },
           "zaxis": {
            "backgroundcolor": "#E5ECF6",
            "gridcolor": "white",
            "gridwidth": 2,
            "linecolor": "white",
            "showbackground": true,
            "ticks": "",
            "zerolinecolor": "white"
           }
          },
          "shapedefaults": {
           "line": {
            "color": "#2a3f5f"
           }
          },
          "ternary": {
           "aaxis": {
            "gridcolor": "white",
            "linecolor": "white",
            "ticks": ""
           },
           "baxis": {
            "gridcolor": "white",
            "linecolor": "white",
            "ticks": ""
           },
           "bgcolor": "#E5ECF6",
           "caxis": {
            "gridcolor": "white",
            "linecolor": "white",
            "ticks": ""
           }
          },
          "title": {
           "x": 0.05
          },
          "xaxis": {
           "automargin": true,
           "gridcolor": "white",
           "linecolor": "white",
           "ticks": "",
           "title": {
            "standoff": 15
           },
           "zerolinecolor": "white",
           "zerolinewidth": 2
          },
          "yaxis": {
           "automargin": true,
           "gridcolor": "white",
           "linecolor": "white",
           "ticks": "",
           "title": {
            "standoff": 15
           },
           "zerolinecolor": "white",
           "zerolinewidth": 2
          }
         }
        },
        "title": {
         "text": "Sentiment Distribution"
        },
        "xaxis": {
         "anchor": "y",
         "domain": [
          0,
          1
         ],
         "title": {
          "text": "Sentiment"
         }
        },
        "yaxis": {
         "anchor": "x",
         "domain": [
          0,
          1
         ],
         "title": {
          "text": "count"
         }
        }
       }
      }
     },
     "metadata": {},
     "output_type": "display_data"
    }
   ],
   "source": [
    "# Sentiment Analysis\n",
    "data['Sentiment'] = data['Article'].apply(lambda x: TextBlob(x).sentiment.polarity)\n",
    "\n",
    "# Sentiment Distribution\n",
    "fig = px.histogram(data, x='Sentiment', title='Sentiment Distribution')\n",
    "fig.show()"
   ]
  },
  {
   "cell_type": "code",
   "execution_count": 6,
   "metadata": {},
   "outputs": [
    {
     "data": {
      "application/vnd.plotly.v1+json": {
       "config": {
        "plotlyServerURL": "https://plot.ly"
       },
       "data": [
        {
         "alignmentgroup": "True",
         "hovertemplate": "Entity=%{x}<br>Count=%{y}<extra></extra>",
         "legendgroup": "",
         "marker": {
          "color": "#636efa",
          "pattern": {
           "shape": ""
          }
         },
         "name": "",
         "offsetgroup": "",
         "orientation": "v",
         "showlegend": false,
         "textposition": "auto",
         "type": "bar",
         "x": [
          "DATE",
          "CARDINAL",
          "ORG",
          "ORDINAL",
          "LOC",
          "PRODUCT",
          "PERSON",
          "GPE",
          "FAC"
         ],
         "xaxis": "x",
         "y": [
          8,
          9,
          20,
          1,
          1,
          1,
          3,
          4,
          1
         ],
         "yaxis": "y"
        }
       ],
       "layout": {
        "barmode": "relative",
        "legend": {
         "tracegroupgap": 0
        },
        "template": {
         "data": {
          "bar": [
           {
            "error_x": {
             "color": "#2a3f5f"
            },
            "error_y": {
             "color": "#2a3f5f"
            },
            "marker": {
             "line": {
              "color": "#E5ECF6",
              "width": 0.5
             },
             "pattern": {
              "fillmode": "overlay",
              "size": 10,
              "solidity": 0.2
             }
            },
            "type": "bar"
           }
          ],
          "barpolar": [
           {
            "marker": {
             "line": {
              "color": "#E5ECF6",
              "width": 0.5
             },
             "pattern": {
              "fillmode": "overlay",
              "size": 10,
              "solidity": 0.2
             }
            },
            "type": "barpolar"
           }
          ],
          "carpet": [
           {
            "aaxis": {
             "endlinecolor": "#2a3f5f",
             "gridcolor": "white",
             "linecolor": "white",
             "minorgridcolor": "white",
             "startlinecolor": "#2a3f5f"
            },
            "baxis": {
             "endlinecolor": "#2a3f5f",
             "gridcolor": "white",
             "linecolor": "white",
             "minorgridcolor": "white",
             "startlinecolor": "#2a3f5f"
            },
            "type": "carpet"
           }
          ],
          "choropleth": [
           {
            "colorbar": {
             "outlinewidth": 0,
             "ticks": ""
            },
            "type": "choropleth"
           }
          ],
          "contour": [
           {
            "colorbar": {
             "outlinewidth": 0,
             "ticks": ""
            },
            "colorscale": [
             [
              0,
              "#0d0887"
             ],
             [
              0.1111111111111111,
              "#46039f"
             ],
             [
              0.2222222222222222,
              "#7201a8"
             ],
             [
              0.3333333333333333,
              "#9c179e"
             ],
             [
              0.4444444444444444,
              "#bd3786"
             ],
             [
              0.5555555555555556,
              "#d8576b"
             ],
             [
              0.6666666666666666,
              "#ed7953"
             ],
             [
              0.7777777777777778,
              "#fb9f3a"
             ],
             [
              0.8888888888888888,
              "#fdca26"
             ],
             [
              1,
              "#f0f921"
             ]
            ],
            "type": "contour"
           }
          ],
          "contourcarpet": [
           {
            "colorbar": {
             "outlinewidth": 0,
             "ticks": ""
            },
            "type": "contourcarpet"
           }
          ],
          "heatmap": [
           {
            "colorbar": {
             "outlinewidth": 0,
             "ticks": ""
            },
            "colorscale": [
             [
              0,
              "#0d0887"
             ],
             [
              0.1111111111111111,
              "#46039f"
             ],
             [
              0.2222222222222222,
              "#7201a8"
             ],
             [
              0.3333333333333333,
              "#9c179e"
             ],
             [
              0.4444444444444444,
              "#bd3786"
             ],
             [
              0.5555555555555556,
              "#d8576b"
             ],
             [
              0.6666666666666666,
              "#ed7953"
             ],
             [
              0.7777777777777778,
              "#fb9f3a"
             ],
             [
              0.8888888888888888,
              "#fdca26"
             ],
             [
              1,
              "#f0f921"
             ]
            ],
            "type": "heatmap"
           }
          ],
          "heatmapgl": [
           {
            "colorbar": {
             "outlinewidth": 0,
             "ticks": ""
            },
            "colorscale": [
             [
              0,
              "#0d0887"
             ],
             [
              0.1111111111111111,
              "#46039f"
             ],
             [
              0.2222222222222222,
              "#7201a8"
             ],
             [
              0.3333333333333333,
              "#9c179e"
             ],
             [
              0.4444444444444444,
              "#bd3786"
             ],
             [
              0.5555555555555556,
              "#d8576b"
             ],
             [
              0.6666666666666666,
              "#ed7953"
             ],
             [
              0.7777777777777778,
              "#fb9f3a"
             ],
             [
              0.8888888888888888,
              "#fdca26"
             ],
             [
              1,
              "#f0f921"
             ]
            ],
            "type": "heatmapgl"
           }
          ],
          "histogram": [
           {
            "marker": {
             "pattern": {
              "fillmode": "overlay",
              "size": 10,
              "solidity": 0.2
             }
            },
            "type": "histogram"
           }
          ],
          "histogram2d": [
           {
            "colorbar": {
             "outlinewidth": 0,
             "ticks": ""
            },
            "colorscale": [
             [
              0,
              "#0d0887"
             ],
             [
              0.1111111111111111,
              "#46039f"
             ],
             [
              0.2222222222222222,
              "#7201a8"
             ],
             [
              0.3333333333333333,
              "#9c179e"
             ],
             [
              0.4444444444444444,
              "#bd3786"
             ],
             [
              0.5555555555555556,
              "#d8576b"
             ],
             [
              0.6666666666666666,
              "#ed7953"
             ],
             [
              0.7777777777777778,
              "#fb9f3a"
             ],
             [
              0.8888888888888888,
              "#fdca26"
             ],
             [
              1,
              "#f0f921"
             ]
            ],
            "type": "histogram2d"
           }
          ],
          "histogram2dcontour": [
           {
            "colorbar": {
             "outlinewidth": 0,
             "ticks": ""
            },
            "colorscale": [
             [
              0,
              "#0d0887"
             ],
             [
              0.1111111111111111,
              "#46039f"
             ],
             [
              0.2222222222222222,
              "#7201a8"
             ],
             [
              0.3333333333333333,
              "#9c179e"
             ],
             [
              0.4444444444444444,
              "#bd3786"
             ],
             [
              0.5555555555555556,
              "#d8576b"
             ],
             [
              0.6666666666666666,
              "#ed7953"
             ],
             [
              0.7777777777777778,
              "#fb9f3a"
             ],
             [
              0.8888888888888888,
              "#fdca26"
             ],
             [
              1,
              "#f0f921"
             ]
            ],
            "type": "histogram2dcontour"
           }
          ],
          "mesh3d": [
           {
            "colorbar": {
             "outlinewidth": 0,
             "ticks": ""
            },
            "type": "mesh3d"
           }
          ],
          "parcoords": [
           {
            "line": {
             "colorbar": {
              "outlinewidth": 0,
              "ticks": ""
             }
            },
            "type": "parcoords"
           }
          ],
          "pie": [
           {
            "automargin": true,
            "type": "pie"
           }
          ],
          "scatter": [
           {
            "fillpattern": {
             "fillmode": "overlay",
             "size": 10,
             "solidity": 0.2
            },
            "type": "scatter"
           }
          ],
          "scatter3d": [
           {
            "line": {
             "colorbar": {
              "outlinewidth": 0,
              "ticks": ""
             }
            },
            "marker": {
             "colorbar": {
              "outlinewidth": 0,
              "ticks": ""
             }
            },
            "type": "scatter3d"
           }
          ],
          "scattercarpet": [
           {
            "marker": {
             "colorbar": {
              "outlinewidth": 0,
              "ticks": ""
             }
            },
            "type": "scattercarpet"
           }
          ],
          "scattergeo": [
           {
            "marker": {
             "colorbar": {
              "outlinewidth": 0,
              "ticks": ""
             }
            },
            "type": "scattergeo"
           }
          ],
          "scattergl": [
           {
            "marker": {
             "colorbar": {
              "outlinewidth": 0,
              "ticks": ""
             }
            },
            "type": "scattergl"
           }
          ],
          "scattermapbox": [
           {
            "marker": {
             "colorbar": {
              "outlinewidth": 0,
              "ticks": ""
             }
            },
            "type": "scattermapbox"
           }
          ],
          "scatterpolar": [
           {
            "marker": {
             "colorbar": {
              "outlinewidth": 0,
              "ticks": ""
             }
            },
            "type": "scatterpolar"
           }
          ],
          "scatterpolargl": [
           {
            "marker": {
             "colorbar": {
              "outlinewidth": 0,
              "ticks": ""
             }
            },
            "type": "scatterpolargl"
           }
          ],
          "scatterternary": [
           {
            "marker": {
             "colorbar": {
              "outlinewidth": 0,
              "ticks": ""
             }
            },
            "type": "scatterternary"
           }
          ],
          "surface": [
           {
            "colorbar": {
             "outlinewidth": 0,
             "ticks": ""
            },
            "colorscale": [
             [
              0,
              "#0d0887"
             ],
             [
              0.1111111111111111,
              "#46039f"
             ],
             [
              0.2222222222222222,
              "#7201a8"
             ],
             [
              0.3333333333333333,
              "#9c179e"
             ],
             [
              0.4444444444444444,
              "#bd3786"
             ],
             [
              0.5555555555555556,
              "#d8576b"
             ],
             [
              0.6666666666666666,
              "#ed7953"
             ],
             [
              0.7777777777777778,
              "#fb9f3a"
             ],
             [
              0.8888888888888888,
              "#fdca26"
             ],
             [
              1,
              "#f0f921"
             ]
            ],
            "type": "surface"
           }
          ],
          "table": [
           {
            "cells": {
             "fill": {
              "color": "#EBF0F8"
             },
             "line": {
              "color": "white"
             }
            },
            "header": {
             "fill": {
              "color": "#C8D4E3"
             },
             "line": {
              "color": "white"
             }
            },
            "type": "table"
           }
          ]
         },
         "layout": {
          "annotationdefaults": {
           "arrowcolor": "#2a3f5f",
           "arrowhead": 0,
           "arrowwidth": 1
          },
          "autotypenumbers": "strict",
          "coloraxis": {
           "colorbar": {
            "outlinewidth": 0,
            "ticks": ""
           }
          },
          "colorscale": {
           "diverging": [
            [
             0,
             "#8e0152"
            ],
            [
             0.1,
             "#c51b7d"
            ],
            [
             0.2,
             "#de77ae"
            ],
            [
             0.3,
             "#f1b6da"
            ],
            [
             0.4,
             "#fde0ef"
            ],
            [
             0.5,
             "#f7f7f7"
            ],
            [
             0.6,
             "#e6f5d0"
            ],
            [
             0.7,
             "#b8e186"
            ],
            [
             0.8,
             "#7fbc41"
            ],
            [
             0.9,
             "#4d9221"
            ],
            [
             1,
             "#276419"
            ]
           ],
           "sequential": [
            [
             0,
             "#0d0887"
            ],
            [
             0.1111111111111111,
             "#46039f"
            ],
            [
             0.2222222222222222,
             "#7201a8"
            ],
            [
             0.3333333333333333,
             "#9c179e"
            ],
            [
             0.4444444444444444,
             "#bd3786"
            ],
            [
             0.5555555555555556,
             "#d8576b"
            ],
            [
             0.6666666666666666,
             "#ed7953"
            ],
            [
             0.7777777777777778,
             "#fb9f3a"
            ],
            [
             0.8888888888888888,
             "#fdca26"
            ],
            [
             1,
             "#f0f921"
            ]
           ],
           "sequentialminus": [
            [
             0,
             "#0d0887"
            ],
            [
             0.1111111111111111,
             "#46039f"
            ],
            [
             0.2222222222222222,
             "#7201a8"
            ],
            [
             0.3333333333333333,
             "#9c179e"
            ],
            [
             0.4444444444444444,
             "#bd3786"
            ],
            [
             0.5555555555555556,
             "#d8576b"
            ],
            [
             0.6666666666666666,
             "#ed7953"
            ],
            [
             0.7777777777777778,
             "#fb9f3a"
            ],
            [
             0.8888888888888888,
             "#fdca26"
            ],
            [
             1,
             "#f0f921"
            ]
           ]
          },
          "colorway": [
           "#636efa",
           "#EF553B",
           "#00cc96",
           "#ab63fa",
           "#FFA15A",
           "#19d3f3",
           "#FF6692",
           "#B6E880",
           "#FF97FF",
           "#FECB52"
          ],
          "font": {
           "color": "#2a3f5f"
          },
          "geo": {
           "bgcolor": "white",
           "lakecolor": "white",
           "landcolor": "#E5ECF6",
           "showlakes": true,
           "showland": true,
           "subunitcolor": "white"
          },
          "hoverlabel": {
           "align": "left"
          },
          "hovermode": "closest",
          "mapbox": {
           "style": "light"
          },
          "paper_bgcolor": "white",
          "plot_bgcolor": "#E5ECF6",
          "polar": {
           "angularaxis": {
            "gridcolor": "white",
            "linecolor": "white",
            "ticks": ""
           },
           "bgcolor": "#E5ECF6",
           "radialaxis": {
            "gridcolor": "white",
            "linecolor": "white",
            "ticks": ""
           }
          },
          "scene": {
           "xaxis": {
            "backgroundcolor": "#E5ECF6",
            "gridcolor": "white",
            "gridwidth": 2,
            "linecolor": "white",
            "showbackground": true,
            "ticks": "",
            "zerolinecolor": "white"
           },
           "yaxis": {
            "backgroundcolor": "#E5ECF6",
            "gridcolor": "white",
            "gridwidth": 2,
            "linecolor": "white",
            "showbackground": true,
            "ticks": "",
            "zerolinecolor": "white"
           },
           "zaxis": {
            "backgroundcolor": "#E5ECF6",
            "gridcolor": "white",
            "gridwidth": 2,
            "linecolor": "white",
            "showbackground": true,
            "ticks": "",
            "zerolinecolor": "white"
           }
          },
          "shapedefaults": {
           "line": {
            "color": "#2a3f5f"
           }
          },
          "ternary": {
           "aaxis": {
            "gridcolor": "white",
            "linecolor": "white",
            "ticks": ""
           },
           "baxis": {
            "gridcolor": "white",
            "linecolor": "white",
            "ticks": ""
           },
           "bgcolor": "#E5ECF6",
           "caxis": {
            "gridcolor": "white",
            "linecolor": "white",
            "ticks": ""
           }
          },
          "title": {
           "x": 0.05
          },
          "xaxis": {
           "automargin": true,
           "gridcolor": "white",
           "linecolor": "white",
           "ticks": "",
           "title": {
            "standoff": 15
           },
           "zerolinecolor": "white",
           "zerolinewidth": 2
          },
          "yaxis": {
           "automargin": true,
           "gridcolor": "white",
           "linecolor": "white",
           "ticks": "",
           "title": {
            "standoff": 15
           },
           "zerolinecolor": "white",
           "zerolinewidth": 2
          }
         }
        },
        "title": {
         "text": "Top 10 Named Entities"
        },
        "xaxis": {
         "anchor": "y",
         "domain": [
          0,
          1
         ],
         "title": {
          "text": "Entity"
         }
        },
        "yaxis": {
         "anchor": "x",
         "domain": [
          0,
          1
         ],
         "title": {
          "text": "Count"
         }
        }
       }
      }
     },
     "metadata": {},
     "output_type": "display_data"
    }
   ],
   "source": [
    "# NER\n",
    "def extract_named_entities(text):\n",
    "    doc = nlp(text)\n",
    "    entities = defaultdict(list)\n",
    "    for ent in doc.ents:\n",
    "        entities[ent.label_].append(ent.text)\n",
    "    return dict(entities)\n",
    "\n",
    "data['Named_Entities'] = data['Article'].apply(extract_named_entities)\n",
    "\n",
    "# Visualize NER\n",
    "entity_counts = Counter(entity for entities in data['Named_Entities'] for entity in entities)\n",
    "entity_df = pd.DataFrame.from_dict(entity_counts, orient='index').reset_index()\n",
    "entity_df.columns = ['Entity', 'Count']\n",
    "\n",
    "fig = px.bar(entity_df.head(10), x='Entity', y='Count', title='Top 10 Named Entities')\n",
    "fig.show()"
   ]
  },
  {
   "cell_type": "code",
   "execution_count": 7,
   "metadata": {},
   "outputs": [
    {
     "data": {
      "text/html": [
       "<div>\n",
       "<style scoped>\n",
       "    .dataframe tbody tr th:only-of-type {\n",
       "        vertical-align: middle;\n",
       "    }\n",
       "\n",
       "    .dataframe tbody tr th {\n",
       "        vertical-align: top;\n",
       "    }\n",
       "\n",
       "    .dataframe thead th {\n",
       "        text-align: right;\n",
       "    }\n",
       "</style>\n",
       "<table border=\"1\" class=\"dataframe\">\n",
       "  <thead>\n",
       "    <tr style=\"text-align: right;\">\n",
       "      <th></th>\n",
       "      <th>Article</th>\n",
       "      <th>Title</th>\n",
       "      <th>Sentiment</th>\n",
       "      <th>Named_Entities</th>\n",
       "    </tr>\n",
       "  </thead>\n",
       "  <tbody>\n",
       "    <tr>\n",
       "      <th>0</th>\n",
       "      <td>Data analysis is the process of inspecting and...</td>\n",
       "      <td>Best Books to Learn Data Analysis</td>\n",
       "      <td>0.666667</td>\n",
       "      <td>{'DATE': ['today']}</td>\n",
       "    </tr>\n",
       "    <tr>\n",
       "      <th>1</th>\n",
       "      <td>The performance of a machine learning algorith...</td>\n",
       "      <td>Assumptions of Machine Learning Algorithms</td>\n",
       "      <td>0.020833</td>\n",
       "      <td>{}</td>\n",
       "    </tr>\n",
       "    <tr>\n",
       "      <th>2</th>\n",
       "      <td>You must have seen the news divided into categ...</td>\n",
       "      <td>News Classification with Machine Learning</td>\n",
       "      <td>0.600000</td>\n",
       "      <td>{}</td>\n",
       "    </tr>\n",
       "    <tr>\n",
       "      <th>3</th>\n",
       "      <td>When there are only two classes in a classific...</td>\n",
       "      <td>Multiclass Classification Algorithms in Machin...</td>\n",
       "      <td>0.625000</td>\n",
       "      <td>{'CARDINAL': ['only two', 'more than two']}</td>\n",
       "    </tr>\n",
       "    <tr>\n",
       "      <th>4</th>\n",
       "      <td>The Multinomial Naive Bayes is one of the vari...</td>\n",
       "      <td>Multinomial Naive Bayes in Machine Learning</td>\n",
       "      <td>-0.101429</td>\n",
       "      <td>{'ORG': ['The Multinomial Naive Bayes', 'Naive...</td>\n",
       "    </tr>\n",
       "    <tr>\n",
       "      <th>5</th>\n",
       "      <td>You must have seen the news divided into categ...</td>\n",
       "      <td>News Classification with Machine Learning</td>\n",
       "      <td>0.600000</td>\n",
       "      <td>{}</td>\n",
       "    </tr>\n",
       "    <tr>\n",
       "      <th>6</th>\n",
       "      <td>Natural language processing or NLP is a subfie...</td>\n",
       "      <td>Best Books to Learn NLP</td>\n",
       "      <td>0.283333</td>\n",
       "      <td>{'ORG': ['NLP', 'NLP', 'NLP', 'NLP'], 'CARDINA...</td>\n",
       "    </tr>\n",
       "    <tr>\n",
       "      <th>7</th>\n",
       "      <td>By using a third-party application or API to m...</td>\n",
       "      <td>Send Instagram Messages using Python</td>\n",
       "      <td>0.050000</td>\n",
       "      <td>{'ORDINAL': ['third'], 'ORG': ['API', 'Instagr...</td>\n",
       "    </tr>\n",
       "    <tr>\n",
       "      <th>8</th>\n",
       "      <td>Twitter is one of the most popular social medi...</td>\n",
       "      <td>Pfizer Vaccine Sentiment Analysis using Python</td>\n",
       "      <td>0.406667</td>\n",
       "      <td>{'PRODUCT': ['Twitter', 'Twitter'], 'CARDINAL'...</td>\n",
       "    </tr>\n",
       "    <tr>\n",
       "      <th>9</th>\n",
       "      <td>The squid game is currently one of the most tr...</td>\n",
       "      <td>Squid Game Sentiment Analysis using Python</td>\n",
       "      <td>-0.108333</td>\n",
       "      <td>{'ORG': ['NetFlix'], 'CARDINAL': ['One']}</td>\n",
       "    </tr>\n",
       "    <tr>\n",
       "      <th>10</th>\n",
       "      <td>Computer Vision is one of the fields of Artifi...</td>\n",
       "      <td>Best Books to Learn Computer Vision</td>\n",
       "      <td>0.346875</td>\n",
       "      <td>{'ORG': ['Computer Vision', 'Artificial Intell...</td>\n",
       "    </tr>\n",
       "    <tr>\n",
       "      <th>11</th>\n",
       "      <td>Python is one of the most popular programming ...</td>\n",
       "      <td>Best Resources to Learn Python</td>\n",
       "      <td>0.580000</td>\n",
       "      <td>{'DATE': ['today', 'today'], 'ORG': ['Google',...</td>\n",
       "    </tr>\n",
       "    <tr>\n",
       "      <th>12</th>\n",
       "      <td>API stands for Application Programming Interfa...</td>\n",
       "      <td>Best Python Frameworks to Build APIs</td>\n",
       "      <td>0.479167</td>\n",
       "      <td>{'ORG': ['API', 'Application Programming Inter...</td>\n",
       "    </tr>\n",
       "    <tr>\n",
       "      <th>13</th>\n",
       "      <td>A voice recorder is found in every smartphone ...</td>\n",
       "      <td>Voice Recorder using Python</td>\n",
       "      <td>0.200000</td>\n",
       "      <td>{'DATE': ['today']}</td>\n",
       "    </tr>\n",
       "    <tr>\n",
       "      <th>14</th>\n",
       "      <td>Language detection is a natural language proce...</td>\n",
       "      <td>Language Detection with Machine Learning</td>\n",
       "      <td>0.016667</td>\n",
       "      <td>{'DATE': ['a few years ago']}</td>\n",
       "    </tr>\n",
       "    <tr>\n",
       "      <th>15</th>\n",
       "      <td>A Multilayer Perceptron or MLP is one of the s...</td>\n",
       "      <td>Multilayer Perceptron in Machine Learning</td>\n",
       "      <td>0.000000</td>\n",
       "      <td>{'ORG': ['Multilayer Perceptron', 'Multilayer ...</td>\n",
       "    </tr>\n",
       "    <tr>\n",
       "      <th>16</th>\n",
       "      <td>A neural network is a subset of machine learni...</td>\n",
       "      <td>Types of Neural Networks</td>\n",
       "      <td>-0.075000</td>\n",
       "      <td>{'ORG': ['Data Scientist']}</td>\n",
       "    </tr>\n",
       "    <tr>\n",
       "      <th>17</th>\n",
       "      <td>Clustering is the task of identifying similar ...</td>\n",
       "      <td>Clustering Algorithms in Machine Learning</td>\n",
       "      <td>0.000000</td>\n",
       "      <td>{}</td>\n",
       "    </tr>\n",
       "    <tr>\n",
       "      <th>18</th>\n",
       "      <td>Dictionaries are one of the most useful data s...</td>\n",
       "      <td>For Loop Over Keys and Values in a Python Dict...</td>\n",
       "      <td>0.150000</td>\n",
       "      <td>{'CARDINAL': ['one']}</td>\n",
       "    </tr>\n",
       "    <tr>\n",
       "      <th>19</th>\n",
       "      <td>Health Insurance is a type of insurance that c...</td>\n",
       "      <td>Health Insurance Premium Prediction with Machi...</td>\n",
       "      <td>0.083333</td>\n",
       "      <td>{'ORG': ['Health Insurance']}</td>\n",
       "    </tr>\n",
       "    <tr>\n",
       "      <th>20</th>\n",
       "      <td>The mean shift algorithm is a nonparametric cl...</td>\n",
       "      <td>Mean Shift Clustering in Machine Learning</td>\n",
       "      <td>-0.234375</td>\n",
       "      <td>{'ORG': ['Machine Learning']}</td>\n",
       "    </tr>\n",
       "    <tr>\n",
       "      <th>21</th>\n",
       "      <td>The BIRCH is a Clustering algorithm in machine...</td>\n",
       "      <td>BIRCH Clustering in Machine Learning</td>\n",
       "      <td>0.000000</td>\n",
       "      <td>{'ORG': ['Clustering', 'Balanced Reducing and ...</td>\n",
       "    </tr>\n",
       "    <tr>\n",
       "      <th>22</th>\n",
       "      <td>Agglomerative clustering is based on hierarchi...</td>\n",
       "      <td>Agglomerative Clustering in Machine Learning</td>\n",
       "      <td>0.157692</td>\n",
       "      <td>{'ORG': ['the K-Means']}</td>\n",
       "    </tr>\n",
       "    <tr>\n",
       "      <th>23</th>\n",
       "      <td>DBSCAN stands for Density-Based Spatial Cluste...</td>\n",
       "      <td>DBSCAN Clustering in Machine Learning</td>\n",
       "      <td>-0.800000</td>\n",
       "      <td>{'ORG': ['DBSCAN', 'Density-Based Spatial Clus...</td>\n",
       "    </tr>\n",
       "    <tr>\n",
       "      <th>24</th>\n",
       "      <td>The K-Means Clustering is a clustering algorit...</td>\n",
       "      <td>K-Means Clustering in Machine Learning</td>\n",
       "      <td>0.091111</td>\n",
       "      <td>{'ORG': ['The K-Means Clustering', 'the K-Mean...</td>\n",
       "    </tr>\n",
       "    <tr>\n",
       "      <th>25</th>\n",
       "      <td>A scatter plot is one of the most useful ways ...</td>\n",
       "      <td>Animated Scatter Plot using Python</td>\n",
       "      <td>0.400000</td>\n",
       "      <td>{'CARDINAL': ['two']}</td>\n",
       "    </tr>\n",
       "    <tr>\n",
       "      <th>26</th>\n",
       "      <td>Recently, we have seen an increase of more tha...</td>\n",
       "      <td>Tata Motors Stock Price Prediction with Machin...</td>\n",
       "      <td>0.175000</td>\n",
       "      <td>{'CARDINAL': ['more than 10'], 'ORG': ['Tata M...</td>\n",
       "    </tr>\n",
       "    <tr>\n",
       "      <th>27</th>\n",
       "      <td>Apple has just announced the date of its Septe...</td>\n",
       "      <td>Apple Stock Price Prediction with Machine Lear...</td>\n",
       "      <td>0.245455</td>\n",
       "      <td>{'ORG': ['Apple', 'Apple', 'Apple'], 'DATE': [...</td>\n",
       "    </tr>\n",
       "    <tr>\n",
       "      <th>28</th>\n",
       "      <td>Deep learning is a subset of machine learning ...</td>\n",
       "      <td>Best Books to Learn Deep Learning</td>\n",
       "      <td>0.118929</td>\n",
       "      <td>{}</td>\n",
       "    </tr>\n",
       "    <tr>\n",
       "      <th>29</th>\n",
       "      <td>Many machine learning algorithms can be used t...</td>\n",
       "      <td>Applications of Deep Learning</td>\n",
       "      <td>0.089796</td>\n",
       "      <td>{}</td>\n",
       "    </tr>\n",
       "    <tr>\n",
       "      <th>30</th>\n",
       "      <td>Almost every app or website you visit today sh...</td>\n",
       "      <td>Introduction to Recommendation Systems</td>\n",
       "      <td>0.270000</td>\n",
       "      <td>{'DATE': ['today'], 'ORG': ['YouTube', 'YouTub...</td>\n",
       "    </tr>\n",
       "    <tr>\n",
       "      <th>31</th>\n",
       "      <td>There are so many algorithms in machine learni...</td>\n",
       "      <td>Use Cases of Different Machine Learning Algori...</td>\n",
       "      <td>0.288571</td>\n",
       "      <td>{}</td>\n",
       "    </tr>\n",
       "    <tr>\n",
       "      <th>32</th>\n",
       "      <td>In machine learning, the Naive Bayes algorithm...</td>\n",
       "      <td>Naive Bayes Algorithm in Machine Learning</td>\n",
       "      <td>-0.181250</td>\n",
       "      <td>{'ORG': ['Naive Bayes', 'Bayes', 'Naive Bayes'...</td>\n",
       "    </tr>\n",
       "    <tr>\n",
       "      <th>33</th>\n",
       "      <td>Swapping elements of a Python list is very sim...</td>\n",
       "      <td>Swap Items of a Python List</td>\n",
       "      <td>0.000000</td>\n",
       "      <td>{'GPE': ['Python', 'Python']}</td>\n",
       "    </tr>\n",
       "  </tbody>\n",
       "</table>\n",
       "</div>"
      ],
      "text/plain": [
       "                                              Article  \\\n",
       "0   Data analysis is the process of inspecting and...   \n",
       "1   The performance of a machine learning algorith...   \n",
       "2   You must have seen the news divided into categ...   \n",
       "3   When there are only two classes in a classific...   \n",
       "4   The Multinomial Naive Bayes is one of the vari...   \n",
       "5   You must have seen the news divided into categ...   \n",
       "6   Natural language processing or NLP is a subfie...   \n",
       "7   By using a third-party application or API to m...   \n",
       "8   Twitter is one of the most popular social medi...   \n",
       "9   The squid game is currently one of the most tr...   \n",
       "10  Computer Vision is one of the fields of Artifi...   \n",
       "11  Python is one of the most popular programming ...   \n",
       "12  API stands for Application Programming Interfa...   \n",
       "13  A voice recorder is found in every smartphone ...   \n",
       "14  Language detection is a natural language proce...   \n",
       "15  A Multilayer Perceptron or MLP is one of the s...   \n",
       "16  A neural network is a subset of machine learni...   \n",
       "17  Clustering is the task of identifying similar ...   \n",
       "18  Dictionaries are one of the most useful data s...   \n",
       "19  Health Insurance is a type of insurance that c...   \n",
       "20  The mean shift algorithm is a nonparametric cl...   \n",
       "21  The BIRCH is a Clustering algorithm in machine...   \n",
       "22  Agglomerative clustering is based on hierarchi...   \n",
       "23  DBSCAN stands for Density-Based Spatial Cluste...   \n",
       "24  The K-Means Clustering is a clustering algorit...   \n",
       "25  A scatter plot is one of the most useful ways ...   \n",
       "26  Recently, we have seen an increase of more tha...   \n",
       "27  Apple has just announced the date of its Septe...   \n",
       "28  Deep learning is a subset of machine learning ...   \n",
       "29  Many machine learning algorithms can be used t...   \n",
       "30  Almost every app or website you visit today sh...   \n",
       "31  There are so many algorithms in machine learni...   \n",
       "32  In machine learning, the Naive Bayes algorithm...   \n",
       "33  Swapping elements of a Python list is very sim...   \n",
       "\n",
       "                                                Title  Sentiment  \\\n",
       "0                   Best Books to Learn Data Analysis   0.666667   \n",
       "1          Assumptions of Machine Learning Algorithms   0.020833   \n",
       "2           News Classification with Machine Learning   0.600000   \n",
       "3   Multiclass Classification Algorithms in Machin...   0.625000   \n",
       "4         Multinomial Naive Bayes in Machine Learning  -0.101429   \n",
       "5           News Classification with Machine Learning   0.600000   \n",
       "6                             Best Books to Learn NLP   0.283333   \n",
       "7                Send Instagram Messages using Python   0.050000   \n",
       "8      Pfizer Vaccine Sentiment Analysis using Python   0.406667   \n",
       "9          Squid Game Sentiment Analysis using Python  -0.108333   \n",
       "10                Best Books to Learn Computer Vision   0.346875   \n",
       "11                     Best Resources to Learn Python   0.580000   \n",
       "12               Best Python Frameworks to Build APIs   0.479167   \n",
       "13                        Voice Recorder using Python   0.200000   \n",
       "14           Language Detection with Machine Learning   0.016667   \n",
       "15          Multilayer Perceptron in Machine Learning   0.000000   \n",
       "16                           Types of Neural Networks  -0.075000   \n",
       "17          Clustering Algorithms in Machine Learning   0.000000   \n",
       "18  For Loop Over Keys and Values in a Python Dict...   0.150000   \n",
       "19  Health Insurance Premium Prediction with Machi...   0.083333   \n",
       "20          Mean Shift Clustering in Machine Learning  -0.234375   \n",
       "21               BIRCH Clustering in Machine Learning   0.000000   \n",
       "22       Agglomerative Clustering in Machine Learning   0.157692   \n",
       "23              DBSCAN Clustering in Machine Learning  -0.800000   \n",
       "24             K-Means Clustering in Machine Learning   0.091111   \n",
       "25                 Animated Scatter Plot using Python   0.400000   \n",
       "26  Tata Motors Stock Price Prediction with Machin...   0.175000   \n",
       "27  Apple Stock Price Prediction with Machine Lear...   0.245455   \n",
       "28                  Best Books to Learn Deep Learning   0.118929   \n",
       "29                      Applications of Deep Learning   0.089796   \n",
       "30             Introduction to Recommendation Systems   0.270000   \n",
       "31  Use Cases of Different Machine Learning Algori...   0.288571   \n",
       "32          Naive Bayes Algorithm in Machine Learning  -0.181250   \n",
       "33                        Swap Items of a Python List   0.000000   \n",
       "\n",
       "                                       Named_Entities  \n",
       "0                                 {'DATE': ['today']}  \n",
       "1                                                  {}  \n",
       "2                                                  {}  \n",
       "3         {'CARDINAL': ['only two', 'more than two']}  \n",
       "4   {'ORG': ['The Multinomial Naive Bayes', 'Naive...  \n",
       "5                                                  {}  \n",
       "6   {'ORG': ['NLP', 'NLP', 'NLP', 'NLP'], 'CARDINA...  \n",
       "7   {'ORDINAL': ['third'], 'ORG': ['API', 'Instagr...  \n",
       "8   {'PRODUCT': ['Twitter', 'Twitter'], 'CARDINAL'...  \n",
       "9           {'ORG': ['NetFlix'], 'CARDINAL': ['One']}  \n",
       "10  {'ORG': ['Computer Vision', 'Artificial Intell...  \n",
       "11  {'DATE': ['today', 'today'], 'ORG': ['Google',...  \n",
       "12  {'ORG': ['API', 'Application Programming Inter...  \n",
       "13                                {'DATE': ['today']}  \n",
       "14                      {'DATE': ['a few years ago']}  \n",
       "15  {'ORG': ['Multilayer Perceptron', 'Multilayer ...  \n",
       "16                        {'ORG': ['Data Scientist']}  \n",
       "17                                                 {}  \n",
       "18                              {'CARDINAL': ['one']}  \n",
       "19                      {'ORG': ['Health Insurance']}  \n",
       "20                      {'ORG': ['Machine Learning']}  \n",
       "21  {'ORG': ['Clustering', 'Balanced Reducing and ...  \n",
       "22                           {'ORG': ['the K-Means']}  \n",
       "23  {'ORG': ['DBSCAN', 'Density-Based Spatial Clus...  \n",
       "24  {'ORG': ['The K-Means Clustering', 'the K-Mean...  \n",
       "25                              {'CARDINAL': ['two']}  \n",
       "26  {'CARDINAL': ['more than 10'], 'ORG': ['Tata M...  \n",
       "27  {'ORG': ['Apple', 'Apple', 'Apple'], 'DATE': [...  \n",
       "28                                                 {}  \n",
       "29                                                 {}  \n",
       "30  {'DATE': ['today'], 'ORG': ['YouTube', 'YouTub...  \n",
       "31                                                 {}  \n",
       "32  {'ORG': ['Naive Bayes', 'Bayes', 'Naive Bayes'...  \n",
       "33                      {'GPE': ['Python', 'Python']}  "
      ]
     },
     "execution_count": 7,
     "metadata": {},
     "output_type": "execute_result"
    }
   ],
   "source": [
    "data"
   ]
  },
  {
   "cell_type": "code",
   "execution_count": 13,
   "metadata": {},
   "outputs": [
    {
     "data": {
      "application/vnd.plotly.v1+json": {
       "config": {
        "plotlyServerURL": "https://plot.ly"
       },
       "data": [
        {
         "alignmentgroup": "True",
         "hovertemplate": "Dominant_Topic=%{x}<br>count=%{y}<extra></extra>",
         "legendgroup": "",
         "marker": {
          "color": "#636efa",
          "pattern": {
           "shape": ""
          }
         },
         "name": "",
         "offsetgroup": "",
         "orientation": "v",
         "showlegend": false,
         "textposition": "auto",
         "type": "bar",
         "x": [
          "Topic 1",
          "Topic 3",
          "Topic 0",
          "Topic 4",
          "Topic 2"
         ],
         "xaxis": "x",
         "y": [
          18,
          6,
          4,
          3,
          3
         ],
         "yaxis": "y"
        }
       ],
       "layout": {
        "barmode": "relative",
        "legend": {
         "tracegroupgap": 0
        },
        "template": {
         "data": {
          "bar": [
           {
            "error_x": {
             "color": "#2a3f5f"
            },
            "error_y": {
             "color": "#2a3f5f"
            },
            "marker": {
             "line": {
              "color": "#E5ECF6",
              "width": 0.5
             },
             "pattern": {
              "fillmode": "overlay",
              "size": 10,
              "solidity": 0.2
             }
            },
            "type": "bar"
           }
          ],
          "barpolar": [
           {
            "marker": {
             "line": {
              "color": "#E5ECF6",
              "width": 0.5
             },
             "pattern": {
              "fillmode": "overlay",
              "size": 10,
              "solidity": 0.2
             }
            },
            "type": "barpolar"
           }
          ],
          "carpet": [
           {
            "aaxis": {
             "endlinecolor": "#2a3f5f",
             "gridcolor": "white",
             "linecolor": "white",
             "minorgridcolor": "white",
             "startlinecolor": "#2a3f5f"
            },
            "baxis": {
             "endlinecolor": "#2a3f5f",
             "gridcolor": "white",
             "linecolor": "white",
             "minorgridcolor": "white",
             "startlinecolor": "#2a3f5f"
            },
            "type": "carpet"
           }
          ],
          "choropleth": [
           {
            "colorbar": {
             "outlinewidth": 0,
             "ticks": ""
            },
            "type": "choropleth"
           }
          ],
          "contour": [
           {
            "colorbar": {
             "outlinewidth": 0,
             "ticks": ""
            },
            "colorscale": [
             [
              0,
              "#0d0887"
             ],
             [
              0.1111111111111111,
              "#46039f"
             ],
             [
              0.2222222222222222,
              "#7201a8"
             ],
             [
              0.3333333333333333,
              "#9c179e"
             ],
             [
              0.4444444444444444,
              "#bd3786"
             ],
             [
              0.5555555555555556,
              "#d8576b"
             ],
             [
              0.6666666666666666,
              "#ed7953"
             ],
             [
              0.7777777777777778,
              "#fb9f3a"
             ],
             [
              0.8888888888888888,
              "#fdca26"
             ],
             [
              1,
              "#f0f921"
             ]
            ],
            "type": "contour"
           }
          ],
          "contourcarpet": [
           {
            "colorbar": {
             "outlinewidth": 0,
             "ticks": ""
            },
            "type": "contourcarpet"
           }
          ],
          "heatmap": [
           {
            "colorbar": {
             "outlinewidth": 0,
             "ticks": ""
            },
            "colorscale": [
             [
              0,
              "#0d0887"
             ],
             [
              0.1111111111111111,
              "#46039f"
             ],
             [
              0.2222222222222222,
              "#7201a8"
             ],
             [
              0.3333333333333333,
              "#9c179e"
             ],
             [
              0.4444444444444444,
              "#bd3786"
             ],
             [
              0.5555555555555556,
              "#d8576b"
             ],
             [
              0.6666666666666666,
              "#ed7953"
             ],
             [
              0.7777777777777778,
              "#fb9f3a"
             ],
             [
              0.8888888888888888,
              "#fdca26"
             ],
             [
              1,
              "#f0f921"
             ]
            ],
            "type": "heatmap"
           }
          ],
          "heatmapgl": [
           {
            "colorbar": {
             "outlinewidth": 0,
             "ticks": ""
            },
            "colorscale": [
             [
              0,
              "#0d0887"
             ],
             [
              0.1111111111111111,
              "#46039f"
             ],
             [
              0.2222222222222222,
              "#7201a8"
             ],
             [
              0.3333333333333333,
              "#9c179e"
             ],
             [
              0.4444444444444444,
              "#bd3786"
             ],
             [
              0.5555555555555556,
              "#d8576b"
             ],
             [
              0.6666666666666666,
              "#ed7953"
             ],
             [
              0.7777777777777778,
              "#fb9f3a"
             ],
             [
              0.8888888888888888,
              "#fdca26"
             ],
             [
              1,
              "#f0f921"
             ]
            ],
            "type": "heatmapgl"
           }
          ],
          "histogram": [
           {
            "marker": {
             "pattern": {
              "fillmode": "overlay",
              "size": 10,
              "solidity": 0.2
             }
            },
            "type": "histogram"
           }
          ],
          "histogram2d": [
           {
            "colorbar": {
             "outlinewidth": 0,
             "ticks": ""
            },
            "colorscale": [
             [
              0,
              "#0d0887"
             ],
             [
              0.1111111111111111,
              "#46039f"
             ],
             [
              0.2222222222222222,
              "#7201a8"
             ],
             [
              0.3333333333333333,
              "#9c179e"
             ],
             [
              0.4444444444444444,
              "#bd3786"
             ],
             [
              0.5555555555555556,
              "#d8576b"
             ],
             [
              0.6666666666666666,
              "#ed7953"
             ],
             [
              0.7777777777777778,
              "#fb9f3a"
             ],
             [
              0.8888888888888888,
              "#fdca26"
             ],
             [
              1,
              "#f0f921"
             ]
            ],
            "type": "histogram2d"
           }
          ],
          "histogram2dcontour": [
           {
            "colorbar": {
             "outlinewidth": 0,
             "ticks": ""
            },
            "colorscale": [
             [
              0,
              "#0d0887"
             ],
             [
              0.1111111111111111,
              "#46039f"
             ],
             [
              0.2222222222222222,
              "#7201a8"
             ],
             [
              0.3333333333333333,
              "#9c179e"
             ],
             [
              0.4444444444444444,
              "#bd3786"
             ],
             [
              0.5555555555555556,
              "#d8576b"
             ],
             [
              0.6666666666666666,
              "#ed7953"
             ],
             [
              0.7777777777777778,
              "#fb9f3a"
             ],
             [
              0.8888888888888888,
              "#fdca26"
             ],
             [
              1,
              "#f0f921"
             ]
            ],
            "type": "histogram2dcontour"
           }
          ],
          "mesh3d": [
           {
            "colorbar": {
             "outlinewidth": 0,
             "ticks": ""
            },
            "type": "mesh3d"
           }
          ],
          "parcoords": [
           {
            "line": {
             "colorbar": {
              "outlinewidth": 0,
              "ticks": ""
             }
            },
            "type": "parcoords"
           }
          ],
          "pie": [
           {
            "automargin": true,
            "type": "pie"
           }
          ],
          "scatter": [
           {
            "fillpattern": {
             "fillmode": "overlay",
             "size": 10,
             "solidity": 0.2
            },
            "type": "scatter"
           }
          ],
          "scatter3d": [
           {
            "line": {
             "colorbar": {
              "outlinewidth": 0,
              "ticks": ""
             }
            },
            "marker": {
             "colorbar": {
              "outlinewidth": 0,
              "ticks": ""
             }
            },
            "type": "scatter3d"
           }
          ],
          "scattercarpet": [
           {
            "marker": {
             "colorbar": {
              "outlinewidth": 0,
              "ticks": ""
             }
            },
            "type": "scattercarpet"
           }
          ],
          "scattergeo": [
           {
            "marker": {
             "colorbar": {
              "outlinewidth": 0,
              "ticks": ""
             }
            },
            "type": "scattergeo"
           }
          ],
          "scattergl": [
           {
            "marker": {
             "colorbar": {
              "outlinewidth": 0,
              "ticks": ""
             }
            },
            "type": "scattergl"
           }
          ],
          "scattermapbox": [
           {
            "marker": {
             "colorbar": {
              "outlinewidth": 0,
              "ticks": ""
             }
            },
            "type": "scattermapbox"
           }
          ],
          "scatterpolar": [
           {
            "marker": {
             "colorbar": {
              "outlinewidth": 0,
              "ticks": ""
             }
            },
            "type": "scatterpolar"
           }
          ],
          "scatterpolargl": [
           {
            "marker": {
             "colorbar": {
              "outlinewidth": 0,
              "ticks": ""
             }
            },
            "type": "scatterpolargl"
           }
          ],
          "scatterternary": [
           {
            "marker": {
             "colorbar": {
              "outlinewidth": 0,
              "ticks": ""
             }
            },
            "type": "scatterternary"
           }
          ],
          "surface": [
           {
            "colorbar": {
             "outlinewidth": 0,
             "ticks": ""
            },
            "colorscale": [
             [
              0,
              "#0d0887"
             ],
             [
              0.1111111111111111,
              "#46039f"
             ],
             [
              0.2222222222222222,
              "#7201a8"
             ],
             [
              0.3333333333333333,
              "#9c179e"
             ],
             [
              0.4444444444444444,
              "#bd3786"
             ],
             [
              0.5555555555555556,
              "#d8576b"
             ],
             [
              0.6666666666666666,
              "#ed7953"
             ],
             [
              0.7777777777777778,
              "#fb9f3a"
             ],
             [
              0.8888888888888888,
              "#fdca26"
             ],
             [
              1,
              "#f0f921"
             ]
            ],
            "type": "surface"
           }
          ],
          "table": [
           {
            "cells": {
             "fill": {
              "color": "#EBF0F8"
             },
             "line": {
              "color": "white"
             }
            },
            "header": {
             "fill": {
              "color": "#C8D4E3"
             },
             "line": {
              "color": "white"
             }
            },
            "type": "table"
           }
          ]
         },
         "layout": {
          "annotationdefaults": {
           "arrowcolor": "#2a3f5f",
           "arrowhead": 0,
           "arrowwidth": 1
          },
          "autotypenumbers": "strict",
          "coloraxis": {
           "colorbar": {
            "outlinewidth": 0,
            "ticks": ""
           }
          },
          "colorscale": {
           "diverging": [
            [
             0,
             "#8e0152"
            ],
            [
             0.1,
             "#c51b7d"
            ],
            [
             0.2,
             "#de77ae"
            ],
            [
             0.3,
             "#f1b6da"
            ],
            [
             0.4,
             "#fde0ef"
            ],
            [
             0.5,
             "#f7f7f7"
            ],
            [
             0.6,
             "#e6f5d0"
            ],
            [
             0.7,
             "#b8e186"
            ],
            [
             0.8,
             "#7fbc41"
            ],
            [
             0.9,
             "#4d9221"
            ],
            [
             1,
             "#276419"
            ]
           ],
           "sequential": [
            [
             0,
             "#0d0887"
            ],
            [
             0.1111111111111111,
             "#46039f"
            ],
            [
             0.2222222222222222,
             "#7201a8"
            ],
            [
             0.3333333333333333,
             "#9c179e"
            ],
            [
             0.4444444444444444,
             "#bd3786"
            ],
            [
             0.5555555555555556,
             "#d8576b"
            ],
            [
             0.6666666666666666,
             "#ed7953"
            ],
            [
             0.7777777777777778,
             "#fb9f3a"
            ],
            [
             0.8888888888888888,
             "#fdca26"
            ],
            [
             1,
             "#f0f921"
            ]
           ],
           "sequentialminus": [
            [
             0,
             "#0d0887"
            ],
            [
             0.1111111111111111,
             "#46039f"
            ],
            [
             0.2222222222222222,
             "#7201a8"
            ],
            [
             0.3333333333333333,
             "#9c179e"
            ],
            [
             0.4444444444444444,
             "#bd3786"
            ],
            [
             0.5555555555555556,
             "#d8576b"
            ],
            [
             0.6666666666666666,
             "#ed7953"
            ],
            [
             0.7777777777777778,
             "#fb9f3a"
            ],
            [
             0.8888888888888888,
             "#fdca26"
            ],
            [
             1,
             "#f0f921"
            ]
           ]
          },
          "colorway": [
           "#636efa",
           "#EF553B",
           "#00cc96",
           "#ab63fa",
           "#FFA15A",
           "#19d3f3",
           "#FF6692",
           "#B6E880",
           "#FF97FF",
           "#FECB52"
          ],
          "font": {
           "color": "#2a3f5f"
          },
          "geo": {
           "bgcolor": "white",
           "lakecolor": "white",
           "landcolor": "#E5ECF6",
           "showlakes": true,
           "showland": true,
           "subunitcolor": "white"
          },
          "hoverlabel": {
           "align": "left"
          },
          "hovermode": "closest",
          "mapbox": {
           "style": "light"
          },
          "paper_bgcolor": "white",
          "plot_bgcolor": "#E5ECF6",
          "polar": {
           "angularaxis": {
            "gridcolor": "white",
            "linecolor": "white",
            "ticks": ""
           },
           "bgcolor": "#E5ECF6",
           "radialaxis": {
            "gridcolor": "white",
            "linecolor": "white",
            "ticks": ""
           }
          },
          "scene": {
           "xaxis": {
            "backgroundcolor": "#E5ECF6",
            "gridcolor": "white",
            "gridwidth": 2,
            "linecolor": "white",
            "showbackground": true,
            "ticks": "",
            "zerolinecolor": "white"
           },
           "yaxis": {
            "backgroundcolor": "#E5ECF6",
            "gridcolor": "white",
            "gridwidth": 2,
            "linecolor": "white",
            "showbackground": true,
            "ticks": "",
            "zerolinecolor": "white"
           },
           "zaxis": {
            "backgroundcolor": "#E5ECF6",
            "gridcolor": "white",
            "gridwidth": 2,
            "linecolor": "white",
            "showbackground": true,
            "ticks": "",
            "zerolinecolor": "white"
           }
          },
          "shapedefaults": {
           "line": {
            "color": "#2a3f5f"
           }
          },
          "ternary": {
           "aaxis": {
            "gridcolor": "white",
            "linecolor": "white",
            "ticks": ""
           },
           "baxis": {
            "gridcolor": "white",
            "linecolor": "white",
            "ticks": ""
           },
           "bgcolor": "#E5ECF6",
           "caxis": {
            "gridcolor": "white",
            "linecolor": "white",
            "ticks": ""
           }
          },
          "title": {
           "x": 0.05
          },
          "xaxis": {
           "automargin": true,
           "gridcolor": "white",
           "linecolor": "white",
           "ticks": "",
           "title": {
            "standoff": 15
           },
           "zerolinecolor": "white",
           "zerolinewidth": 2
          },
          "yaxis": {
           "automargin": true,
           "gridcolor": "white",
           "linecolor": "white",
           "ticks": "",
           "title": {
            "standoff": 15
           },
           "zerolinecolor": "white",
           "zerolinewidth": 2
          }
         }
        },
        "title": {
         "text": "Topic Distribution"
        },
        "xaxis": {
         "anchor": "y",
         "domain": [
          0,
          1
         ],
         "title": {
          "text": "Dominant_Topic"
         }
        },
        "yaxis": {
         "anchor": "x",
         "domain": [
          0,
          1
         ],
         "title": {
          "text": "count"
         }
        }
       }
      }
     },
     "metadata": {},
     "output_type": "display_data"
    }
   ],
   "source": [
    "# Topic Modeling\n",
    "vectorizer = CountVectorizer(max_df=0.95, min_df=2, max_features=1000, stop_words='english')\n",
    "tf = vectorizer.fit_transform(data['Article'])\n",
    "lda_model = LatentDirichletAllocation(n_components=5, random_state=42)\n",
    "lda_topic_matrix = lda_model.fit_transform(tf)\n",
    "\n",
    "# Visualize topics\n",
    "topic_names = [\"Topic \" + str(i) for i in range(lda_model.n_components)]\n",
    "data['Dominant_Topic'] = [topic_names[i] for i in lda_topic_matrix.argmax(axis=1)]\n",
    "\n",
    "fig = px.bar(data['Dominant_Topic'].value_counts().reset_index(), x='Dominant_Topic', y='count', title='Topic Distribution')\n",
    "fig.show()"
   ]
  },
  {
   "cell_type": "code",
   "execution_count": 12,
   "metadata": {},
   "outputs": [
    {
     "data": {
      "text/html": [
       "<div>\n",
       "<style scoped>\n",
       "    .dataframe tbody tr th:only-of-type {\n",
       "        vertical-align: middle;\n",
       "    }\n",
       "\n",
       "    .dataframe tbody tr th {\n",
       "        vertical-align: top;\n",
       "    }\n",
       "\n",
       "    .dataframe thead th {\n",
       "        text-align: right;\n",
       "    }\n",
       "</style>\n",
       "<table border=\"1\" class=\"dataframe\">\n",
       "  <thead>\n",
       "    <tr style=\"text-align: right;\">\n",
       "      <th></th>\n",
       "      <th>Article</th>\n",
       "      <th>Title</th>\n",
       "      <th>Sentiment</th>\n",
       "      <th>Named_Entities</th>\n",
       "      <th>Dominant_Topic</th>\n",
       "    </tr>\n",
       "  </thead>\n",
       "  <tbody>\n",
       "    <tr>\n",
       "      <th>0</th>\n",
       "      <td>Data analysis is the process of inspecting and...</td>\n",
       "      <td>Best Books to Learn Data Analysis</td>\n",
       "      <td>0.666667</td>\n",
       "      <td>{'DATE': ['today']}</td>\n",
       "      <td>Topic 1</td>\n",
       "    </tr>\n",
       "    <tr>\n",
       "      <th>1</th>\n",
       "      <td>The performance of a machine learning algorith...</td>\n",
       "      <td>Assumptions of Machine Learning Algorithms</td>\n",
       "      <td>0.020833</td>\n",
       "      <td>{}</td>\n",
       "      <td>Topic 0</td>\n",
       "    </tr>\n",
       "    <tr>\n",
       "      <th>2</th>\n",
       "      <td>You must have seen the news divided into categ...</td>\n",
       "      <td>News Classification with Machine Learning</td>\n",
       "      <td>0.600000</td>\n",
       "      <td>{}</td>\n",
       "      <td>Topic 1</td>\n",
       "    </tr>\n",
       "    <tr>\n",
       "      <th>3</th>\n",
       "      <td>When there are only two classes in a classific...</td>\n",
       "      <td>Multiclass Classification Algorithms in Machin...</td>\n",
       "      <td>0.625000</td>\n",
       "      <td>{'CARDINAL': ['only two', 'more than two']}</td>\n",
       "      <td>Topic 3</td>\n",
       "    </tr>\n",
       "    <tr>\n",
       "      <th>4</th>\n",
       "      <td>The Multinomial Naive Bayes is one of the vari...</td>\n",
       "      <td>Multinomial Naive Bayes in Machine Learning</td>\n",
       "      <td>-0.101429</td>\n",
       "      <td>{'ORG': ['The Multinomial Naive Bayes', 'Naive...</td>\n",
       "      <td>Topic 4</td>\n",
       "    </tr>\n",
       "    <tr>\n",
       "      <th>5</th>\n",
       "      <td>You must have seen the news divided into categ...</td>\n",
       "      <td>News Classification with Machine Learning</td>\n",
       "      <td>0.600000</td>\n",
       "      <td>{}</td>\n",
       "      <td>Topic 1</td>\n",
       "    </tr>\n",
       "    <tr>\n",
       "      <th>6</th>\n",
       "      <td>Natural language processing or NLP is a subfie...</td>\n",
       "      <td>Best Books to Learn NLP</td>\n",
       "      <td>0.283333</td>\n",
       "      <td>{'ORG': ['NLP', 'NLP', 'NLP', 'NLP'], 'CARDINA...</td>\n",
       "      <td>Topic 0</td>\n",
       "    </tr>\n",
       "    <tr>\n",
       "      <th>7</th>\n",
       "      <td>By using a third-party application or API to m...</td>\n",
       "      <td>Send Instagram Messages using Python</td>\n",
       "      <td>0.050000</td>\n",
       "      <td>{'ORDINAL': ['third'], 'ORG': ['API', 'Instagr...</td>\n",
       "      <td>Topic 1</td>\n",
       "    </tr>\n",
       "    <tr>\n",
       "      <th>8</th>\n",
       "      <td>Twitter is one of the most popular social medi...</td>\n",
       "      <td>Pfizer Vaccine Sentiment Analysis using Python</td>\n",
       "      <td>0.406667</td>\n",
       "      <td>{'PRODUCT': ['Twitter', 'Twitter'], 'CARDINAL'...</td>\n",
       "      <td>Topic 2</td>\n",
       "    </tr>\n",
       "    <tr>\n",
       "      <th>9</th>\n",
       "      <td>The squid game is currently one of the most tr...</td>\n",
       "      <td>Squid Game Sentiment Analysis using Python</td>\n",
       "      <td>-0.108333</td>\n",
       "      <td>{'ORG': ['NetFlix'], 'CARDINAL': ['One']}</td>\n",
       "      <td>Topic 2</td>\n",
       "    </tr>\n",
       "    <tr>\n",
       "      <th>10</th>\n",
       "      <td>Computer Vision is one of the fields of Artifi...</td>\n",
       "      <td>Best Books to Learn Computer Vision</td>\n",
       "      <td>0.346875</td>\n",
       "      <td>{'ORG': ['Computer Vision', 'Artificial Intell...</td>\n",
       "      <td>Topic 1</td>\n",
       "    </tr>\n",
       "    <tr>\n",
       "      <th>11</th>\n",
       "      <td>Python is one of the most popular programming ...</td>\n",
       "      <td>Best Resources to Learn Python</td>\n",
       "      <td>0.580000</td>\n",
       "      <td>{'DATE': ['today', 'today'], 'ORG': ['Google',...</td>\n",
       "      <td>Topic 1</td>\n",
       "    </tr>\n",
       "    <tr>\n",
       "      <th>12</th>\n",
       "      <td>API stands for Application Programming Interfa...</td>\n",
       "      <td>Best Python Frameworks to Build APIs</td>\n",
       "      <td>0.479167</td>\n",
       "      <td>{'ORG': ['API', 'Application Programming Inter...</td>\n",
       "      <td>Topic 1</td>\n",
       "    </tr>\n",
       "    <tr>\n",
       "      <th>13</th>\n",
       "      <td>A voice recorder is found in every smartphone ...</td>\n",
       "      <td>Voice Recorder using Python</td>\n",
       "      <td>0.200000</td>\n",
       "      <td>{'DATE': ['today']}</td>\n",
       "      <td>Topic 1</td>\n",
       "    </tr>\n",
       "    <tr>\n",
       "      <th>14</th>\n",
       "      <td>Language detection is a natural language proce...</td>\n",
       "      <td>Language Detection with Machine Learning</td>\n",
       "      <td>0.016667</td>\n",
       "      <td>{'DATE': ['a few years ago']}</td>\n",
       "      <td>Topic 1</td>\n",
       "    </tr>\n",
       "    <tr>\n",
       "      <th>15</th>\n",
       "      <td>A Multilayer Perceptron or MLP is one of the s...</td>\n",
       "      <td>Multilayer Perceptron in Machine Learning</td>\n",
       "      <td>0.000000</td>\n",
       "      <td>{'ORG': ['Multilayer Perceptron', 'Multilayer ...</td>\n",
       "      <td>Topic 1</td>\n",
       "    </tr>\n",
       "    <tr>\n",
       "      <th>16</th>\n",
       "      <td>A neural network is a subset of machine learni...</td>\n",
       "      <td>Types of Neural Networks</td>\n",
       "      <td>-0.075000</td>\n",
       "      <td>{'ORG': ['Data Scientist']}</td>\n",
       "      <td>Topic 1</td>\n",
       "    </tr>\n",
       "    <tr>\n",
       "      <th>17</th>\n",
       "      <td>Clustering is the task of identifying similar ...</td>\n",
       "      <td>Clustering Algorithms in Machine Learning</td>\n",
       "      <td>0.000000</td>\n",
       "      <td>{}</td>\n",
       "      <td>Topic 4</td>\n",
       "    </tr>\n",
       "    <tr>\n",
       "      <th>18</th>\n",
       "      <td>Dictionaries are one of the most useful data s...</td>\n",
       "      <td>For Loop Over Keys and Values in a Python Dict...</td>\n",
       "      <td>0.150000</td>\n",
       "      <td>{'CARDINAL': ['one']}</td>\n",
       "      <td>Topic 1</td>\n",
       "    </tr>\n",
       "    <tr>\n",
       "      <th>19</th>\n",
       "      <td>Health Insurance is a type of insurance that c...</td>\n",
       "      <td>Health Insurance Premium Prediction with Machi...</td>\n",
       "      <td>0.083333</td>\n",
       "      <td>{'ORG': ['Health Insurance']}</td>\n",
       "      <td>Topic 2</td>\n",
       "    </tr>\n",
       "    <tr>\n",
       "      <th>20</th>\n",
       "      <td>The mean shift algorithm is a nonparametric cl...</td>\n",
       "      <td>Mean Shift Clustering in Machine Learning</td>\n",
       "      <td>-0.234375</td>\n",
       "      <td>{'ORG': ['Machine Learning']}</td>\n",
       "      <td>Topic 3</td>\n",
       "    </tr>\n",
       "    <tr>\n",
       "      <th>21</th>\n",
       "      <td>The BIRCH is a Clustering algorithm in machine...</td>\n",
       "      <td>BIRCH Clustering in Machine Learning</td>\n",
       "      <td>0.000000</td>\n",
       "      <td>{'ORG': ['Clustering', 'Balanced Reducing and ...</td>\n",
       "      <td>Topic 3</td>\n",
       "    </tr>\n",
       "    <tr>\n",
       "      <th>22</th>\n",
       "      <td>Agglomerative clustering is based on hierarchi...</td>\n",
       "      <td>Agglomerative Clustering in Machine Learning</td>\n",
       "      <td>0.157692</td>\n",
       "      <td>{'ORG': ['the K-Means']}</td>\n",
       "      <td>Topic 3</td>\n",
       "    </tr>\n",
       "    <tr>\n",
       "      <th>23</th>\n",
       "      <td>DBSCAN stands for Density-Based Spatial Cluste...</td>\n",
       "      <td>DBSCAN Clustering in Machine Learning</td>\n",
       "      <td>-0.800000</td>\n",
       "      <td>{'ORG': ['DBSCAN', 'Density-Based Spatial Clus...</td>\n",
       "      <td>Topic 3</td>\n",
       "    </tr>\n",
       "    <tr>\n",
       "      <th>24</th>\n",
       "      <td>The K-Means Clustering is a clustering algorit...</td>\n",
       "      <td>K-Means Clustering in Machine Learning</td>\n",
       "      <td>0.091111</td>\n",
       "      <td>{'ORG': ['The K-Means Clustering', 'the K-Mean...</td>\n",
       "      <td>Topic 3</td>\n",
       "    </tr>\n",
       "    <tr>\n",
       "      <th>25</th>\n",
       "      <td>A scatter plot is one of the most useful ways ...</td>\n",
       "      <td>Animated Scatter Plot using Python</td>\n",
       "      <td>0.400000</td>\n",
       "      <td>{'CARDINAL': ['two']}</td>\n",
       "      <td>Topic 1</td>\n",
       "    </tr>\n",
       "    <tr>\n",
       "      <th>26</th>\n",
       "      <td>Recently, we have seen an increase of more tha...</td>\n",
       "      <td>Tata Motors Stock Price Prediction with Machin...</td>\n",
       "      <td>0.175000</td>\n",
       "      <td>{'CARDINAL': ['more than 10'], 'ORG': ['Tata M...</td>\n",
       "      <td>Topic 1</td>\n",
       "    </tr>\n",
       "    <tr>\n",
       "      <th>27</th>\n",
       "      <td>Apple has just announced the date of its Septe...</td>\n",
       "      <td>Apple Stock Price Prediction with Machine Lear...</td>\n",
       "      <td>0.245455</td>\n",
       "      <td>{'ORG': ['Apple', 'Apple', 'Apple'], 'DATE': [...</td>\n",
       "      <td>Topic 1</td>\n",
       "    </tr>\n",
       "    <tr>\n",
       "      <th>28</th>\n",
       "      <td>Deep learning is a subset of machine learning ...</td>\n",
       "      <td>Best Books to Learn Deep Learning</td>\n",
       "      <td>0.118929</td>\n",
       "      <td>{}</td>\n",
       "      <td>Topic 0</td>\n",
       "    </tr>\n",
       "    <tr>\n",
       "      <th>29</th>\n",
       "      <td>Many machine learning algorithms can be used t...</td>\n",
       "      <td>Applications of Deep Learning</td>\n",
       "      <td>0.089796</td>\n",
       "      <td>{}</td>\n",
       "      <td>Topic 0</td>\n",
       "    </tr>\n",
       "    <tr>\n",
       "      <th>30</th>\n",
       "      <td>Almost every app or website you visit today sh...</td>\n",
       "      <td>Introduction to Recommendation Systems</td>\n",
       "      <td>0.270000</td>\n",
       "      <td>{'DATE': ['today'], 'ORG': ['YouTube', 'YouTub...</td>\n",
       "      <td>Topic 1</td>\n",
       "    </tr>\n",
       "    <tr>\n",
       "      <th>31</th>\n",
       "      <td>There are so many algorithms in machine learni...</td>\n",
       "      <td>Use Cases of Different Machine Learning Algori...</td>\n",
       "      <td>0.288571</td>\n",
       "      <td>{}</td>\n",
       "      <td>Topic 1</td>\n",
       "    </tr>\n",
       "    <tr>\n",
       "      <th>32</th>\n",
       "      <td>In machine learning, the Naive Bayes algorithm...</td>\n",
       "      <td>Naive Bayes Algorithm in Machine Learning</td>\n",
       "      <td>-0.181250</td>\n",
       "      <td>{'ORG': ['Naive Bayes', 'Bayes', 'Naive Bayes'...</td>\n",
       "      <td>Topic 4</td>\n",
       "    </tr>\n",
       "    <tr>\n",
       "      <th>33</th>\n",
       "      <td>Swapping elements of a Python list is very sim...</td>\n",
       "      <td>Swap Items of a Python List</td>\n",
       "      <td>0.000000</td>\n",
       "      <td>{'GPE': ['Python', 'Python']}</td>\n",
       "      <td>Topic 1</td>\n",
       "    </tr>\n",
       "  </tbody>\n",
       "</table>\n",
       "</div>"
      ],
      "text/plain": [
       "                                              Article  \\\n",
       "0   Data analysis is the process of inspecting and...   \n",
       "1   The performance of a machine learning algorith...   \n",
       "2   You must have seen the news divided into categ...   \n",
       "3   When there are only two classes in a classific...   \n",
       "4   The Multinomial Naive Bayes is one of the vari...   \n",
       "5   You must have seen the news divided into categ...   \n",
       "6   Natural language processing or NLP is a subfie...   \n",
       "7   By using a third-party application or API to m...   \n",
       "8   Twitter is one of the most popular social medi...   \n",
       "9   The squid game is currently one of the most tr...   \n",
       "10  Computer Vision is one of the fields of Artifi...   \n",
       "11  Python is one of the most popular programming ...   \n",
       "12  API stands for Application Programming Interfa...   \n",
       "13  A voice recorder is found in every smartphone ...   \n",
       "14  Language detection is a natural language proce...   \n",
       "15  A Multilayer Perceptron or MLP is one of the s...   \n",
       "16  A neural network is a subset of machine learni...   \n",
       "17  Clustering is the task of identifying similar ...   \n",
       "18  Dictionaries are one of the most useful data s...   \n",
       "19  Health Insurance is a type of insurance that c...   \n",
       "20  The mean shift algorithm is a nonparametric cl...   \n",
       "21  The BIRCH is a Clustering algorithm in machine...   \n",
       "22  Agglomerative clustering is based on hierarchi...   \n",
       "23  DBSCAN stands for Density-Based Spatial Cluste...   \n",
       "24  The K-Means Clustering is a clustering algorit...   \n",
       "25  A scatter plot is one of the most useful ways ...   \n",
       "26  Recently, we have seen an increase of more tha...   \n",
       "27  Apple has just announced the date of its Septe...   \n",
       "28  Deep learning is a subset of machine learning ...   \n",
       "29  Many machine learning algorithms can be used t...   \n",
       "30  Almost every app or website you visit today sh...   \n",
       "31  There are so many algorithms in machine learni...   \n",
       "32  In machine learning, the Naive Bayes algorithm...   \n",
       "33  Swapping elements of a Python list is very sim...   \n",
       "\n",
       "                                                Title  Sentiment  \\\n",
       "0                   Best Books to Learn Data Analysis   0.666667   \n",
       "1          Assumptions of Machine Learning Algorithms   0.020833   \n",
       "2           News Classification with Machine Learning   0.600000   \n",
       "3   Multiclass Classification Algorithms in Machin...   0.625000   \n",
       "4         Multinomial Naive Bayes in Machine Learning  -0.101429   \n",
       "5           News Classification with Machine Learning   0.600000   \n",
       "6                             Best Books to Learn NLP   0.283333   \n",
       "7                Send Instagram Messages using Python   0.050000   \n",
       "8      Pfizer Vaccine Sentiment Analysis using Python   0.406667   \n",
       "9          Squid Game Sentiment Analysis using Python  -0.108333   \n",
       "10                Best Books to Learn Computer Vision   0.346875   \n",
       "11                     Best Resources to Learn Python   0.580000   \n",
       "12               Best Python Frameworks to Build APIs   0.479167   \n",
       "13                        Voice Recorder using Python   0.200000   \n",
       "14           Language Detection with Machine Learning   0.016667   \n",
       "15          Multilayer Perceptron in Machine Learning   0.000000   \n",
       "16                           Types of Neural Networks  -0.075000   \n",
       "17          Clustering Algorithms in Machine Learning   0.000000   \n",
       "18  For Loop Over Keys and Values in a Python Dict...   0.150000   \n",
       "19  Health Insurance Premium Prediction with Machi...   0.083333   \n",
       "20          Mean Shift Clustering in Machine Learning  -0.234375   \n",
       "21               BIRCH Clustering in Machine Learning   0.000000   \n",
       "22       Agglomerative Clustering in Machine Learning   0.157692   \n",
       "23              DBSCAN Clustering in Machine Learning  -0.800000   \n",
       "24             K-Means Clustering in Machine Learning   0.091111   \n",
       "25                 Animated Scatter Plot using Python   0.400000   \n",
       "26  Tata Motors Stock Price Prediction with Machin...   0.175000   \n",
       "27  Apple Stock Price Prediction with Machine Lear...   0.245455   \n",
       "28                  Best Books to Learn Deep Learning   0.118929   \n",
       "29                      Applications of Deep Learning   0.089796   \n",
       "30             Introduction to Recommendation Systems   0.270000   \n",
       "31  Use Cases of Different Machine Learning Algori...   0.288571   \n",
       "32          Naive Bayes Algorithm in Machine Learning  -0.181250   \n",
       "33                        Swap Items of a Python List   0.000000   \n",
       "\n",
       "                                       Named_Entities Dominant_Topic  \n",
       "0                                 {'DATE': ['today']}        Topic 1  \n",
       "1                                                  {}        Topic 0  \n",
       "2                                                  {}        Topic 1  \n",
       "3         {'CARDINAL': ['only two', 'more than two']}        Topic 3  \n",
       "4   {'ORG': ['The Multinomial Naive Bayes', 'Naive...        Topic 4  \n",
       "5                                                  {}        Topic 1  \n",
       "6   {'ORG': ['NLP', 'NLP', 'NLP', 'NLP'], 'CARDINA...        Topic 0  \n",
       "7   {'ORDINAL': ['third'], 'ORG': ['API', 'Instagr...        Topic 1  \n",
       "8   {'PRODUCT': ['Twitter', 'Twitter'], 'CARDINAL'...        Topic 2  \n",
       "9           {'ORG': ['NetFlix'], 'CARDINAL': ['One']}        Topic 2  \n",
       "10  {'ORG': ['Computer Vision', 'Artificial Intell...        Topic 1  \n",
       "11  {'DATE': ['today', 'today'], 'ORG': ['Google',...        Topic 1  \n",
       "12  {'ORG': ['API', 'Application Programming Inter...        Topic 1  \n",
       "13                                {'DATE': ['today']}        Topic 1  \n",
       "14                      {'DATE': ['a few years ago']}        Topic 1  \n",
       "15  {'ORG': ['Multilayer Perceptron', 'Multilayer ...        Topic 1  \n",
       "16                        {'ORG': ['Data Scientist']}        Topic 1  \n",
       "17                                                 {}        Topic 4  \n",
       "18                              {'CARDINAL': ['one']}        Topic 1  \n",
       "19                      {'ORG': ['Health Insurance']}        Topic 2  \n",
       "20                      {'ORG': ['Machine Learning']}        Topic 3  \n",
       "21  {'ORG': ['Clustering', 'Balanced Reducing and ...        Topic 3  \n",
       "22                           {'ORG': ['the K-Means']}        Topic 3  \n",
       "23  {'ORG': ['DBSCAN', 'Density-Based Spatial Clus...        Topic 3  \n",
       "24  {'ORG': ['The K-Means Clustering', 'the K-Mean...        Topic 3  \n",
       "25                              {'CARDINAL': ['two']}        Topic 1  \n",
       "26  {'CARDINAL': ['more than 10'], 'ORG': ['Tata M...        Topic 1  \n",
       "27  {'ORG': ['Apple', 'Apple', 'Apple'], 'DATE': [...        Topic 1  \n",
       "28                                                 {}        Topic 0  \n",
       "29                                                 {}        Topic 0  \n",
       "30  {'DATE': ['today'], 'ORG': ['YouTube', 'YouTub...        Topic 1  \n",
       "31                                                 {}        Topic 1  \n",
       "32  {'ORG': ['Naive Bayes', 'Bayes', 'Naive Bayes'...        Topic 4  \n",
       "33                      {'GPE': ['Python', 'Python']}        Topic 1  "
      ]
     },
     "execution_count": 12,
     "metadata": {},
     "output_type": "execute_result"
    }
   ],
   "source": [
    "data"
   ]
  },
  {
   "cell_type": "code",
   "execution_count": 14,
   "metadata": {},
   "outputs": [
    {
     "name": "stdout",
     "output_type": "stream",
     "text": [
      "Topic 1: learning, machine, algorithms, deep, books, best, algorithm, use, applications, introduce\n",
      "\n",
      "Topic 2: python, data, learning, using, learn, machine, want, news, language, stock\n",
      "\n",
      "Topic 3: insurance, people, want, learn, using, python, analysis, task, sentiment, analyze\n",
      "\n",
      "Topic 4: clustering, machine, learning, algorithm, using, classification, python, algorithms, implementation, clusters\n",
      "\n",
      "Topic 5: algorithm, bayes, learning, naive, based, clustering, machine, classification, introduction, similar\n",
      "\n"
     ]
    }
   ],
   "source": [
    "# Topic Modeling\n",
    "vectorizer = CountVectorizer(max_df=0.95, min_df=2, max_features=1000, stop_words='english')\n",
    "tf = vectorizer.fit_transform(data['Article'])\n",
    "lda_model = LatentDirichletAllocation(n_components=5, random_state=42)\n",
    "lda_topic_matrix = lda_model.fit_transform(tf)\n",
    "\n",
    "# Display top terms for each topic\n",
    "feature_names = vectorizer.get_feature_names_out()\n",
    "\n",
    "# Number of top terms to display for each topic\n",
    "num_top_terms = 10\n",
    "\n",
    "for topic_idx, topic in enumerate(lda_model.components_):\n",
    "    top_terms_idx = topic.argsort()[:-num_top_terms - 1:-1]\n",
    "    top_terms = [feature_names[i] for i in top_terms_idx]\n",
    "    print(f\"Topic {topic_idx + 1}: {', '.join(top_terms)}\\n\")"
   ]
  },
  {
   "cell_type": "code",
   "execution_count": null,
   "metadata": {},
   "outputs": [],
   "source": []
  }
 ],
 "metadata": {
  "kernelspec": {
   "display_name": "text_analysis",
   "language": "python",
   "name": "python3"
  },
  "language_info": {
   "codemirror_mode": {
    "name": "ipython",
    "version": 3
   },
   "file_extension": ".py",
   "mimetype": "text/x-python",
   "name": "python",
   "nbconvert_exporter": "python",
   "pygments_lexer": "ipython3",
   "version": "3.12.2"
  }
 },
 "nbformat": 4,
 "nbformat_minor": 2
}
